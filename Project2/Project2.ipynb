{
 "cells": [
  {
   "cell_type": "markdown",
   "metadata": {},
   "source": [
    "# Project 2 "
   ]
  },
  {
   "cell_type": "markdown",
   "metadata": {},
   "source": [
    "***"
   ]
  },
  {
   "cell_type": "markdown",
   "metadata": {},
   "source": [
    "**Table of contents**<a id='toc0_'></a>    \n",
    "- 1. [Q1](#toc1_)    \n",
    "  - 1.1. [How many trading days does this data set cover? (fill in the number in Camino)](#toc1_1_)    \n",
    "  - 1.2. [What's the open price on 2024-08-28? (choose the closest price in Camino)](#toc1_2_)    \n",
    "  - 1.3. [What's the average closing price in the 1st quarter of 2024 (2024-01-01 to 2024-03-31)? (choose the closest price in Camino)](#toc1_3_)    \n",
    "  - 1.4. [Based on the day's high and low, find the top 5 dates with the biggest value change within 1 trading day. Sort them based on value change, highest on top. (choose the 1st date in Camino)](#toc1_4_)    \n",
    "  - 1.5. [Plot a line graph of the closing price over the observed dates. (pick the command that you use to plot the graph in Camino)](#toc1_5_)    \n",
    "  - 1.6. [Plot  line graph of the closing price over the observed dates, focusing on beginning of 2020 to the most recent date in the dataset. Do not use hard-coded date for the most recent date.](#toc1_6_)    \n",
    "- 2. [Q2](#toc2_)    \n",
    "  - 2.1. [For how many trading days does the stock price close at above 50 dollars? (fill in the number in Camino)](#toc2_1_)    \n",
    "  - 2.2. [When is the first time that the stock closes at more than 50 dollars? Show the date only. (choose the right date in Camino)](#toc2_2_)    \n",
    "  - 2.3. [Within the dates with a closing price at more than 50 dollars, find out how many days the trading volume is higher than 100 million shares (100,000,000). (choose the right number in Camino)](#toc2_3_)    \n",
    "- 3. [Q3](#toc3_)    \n",
    "  - 3.1. [How many days before 2022-05-31 did the stock trade with a closing price above 100 dollars? Show the date and stock price.  (choose the number of days in Camino)](#toc3_1_)    \n",
    "  - 3.2. [ Show the top 5 trading volumes and their corresponding days when the stock closing price is over 100 dollars. (choose the date with the largest volume in Camino)](#toc3_2_)    \n",
    "  - 3.3. [Based on the top 5 trading volume dates when the stock's closing price is over 100 dollars, find the corresponding closing prices for the dates.  Sort these dates based on price, with the highest one on top. (choose the first date in Camino)](#toc3_3_)    \n",
    "  - 3.4. [Based on the top 5 trading volume dates when the stock's closing price is over 100 dollars, on which date does the stock gain the most dollars per share? Assume one buys at open and sells at close. (choose the date in Camino)](#toc3_4_)    \n",
    "\n",
    "<!-- vscode-jupyter-toc-config\n",
    "\tnumbering=true\n",
    "\tanchor=true\n",
    "\tflat=false\n",
    "\tminLevel=2\n",
    "\tmaxLevel=6\n",
    "\t/vscode-jupyter-toc-config -->\n",
    "<!-- THIS CELL WILL BE REPLACED ON TOC UPDATE. DO NOT WRITE YOUR TEXT IN THIS CELL -->"
   ]
  },
  {
   "cell_type": "markdown",
   "metadata": {},
   "source": []
  },
  {
   "cell_type": "markdown",
   "metadata": {},
   "source": [
    "# Project 2"
   ]
  },
  {
   "cell_type": "markdown",
   "metadata": {},
   "source": [
    "Use the  AAPL.csv file to answer the following 3 questions (with subquestions). Before doing so, we will create 5 different series based on AAPL.csv file's columns 'Open', 'Close', 'High', 'Low', and 'Volume', and name the series accordingly."
   ]
  },
  {
   "cell_type": "code",
   "execution_count": 1,
   "metadata": {},
   "outputs": [],
   "source": [
    "# print all the outputs in a cell\n",
    "from IPython.core.interactiveshell import InteractiveShell\n",
    "InteractiveShell.ast_node_interactivity = \"all\""
   ]
  },
  {
   "cell_type": "code",
   "execution_count": 2,
   "metadata": {},
   "outputs": [],
   "source": [
    "import pandas as pd\n",
    "import numpy as np\n",
    "data = pd.read_csv('AAPL.csv',index_col=0, parse_dates=True)\n",
    "stock_o = data['Open']\n",
    "stock_c = data['Close']\n",
    "stock_h = data['High']\n",
    "stock_l = data['Low'] \n",
    "stock_v = data['Volume']"
   ]
  },
  {
   "cell_type": "code",
   "execution_count": 3,
   "metadata": {},
   "outputs": [
    {
     "data": {
      "text/html": [
       "<div>\n",
       "<style scoped>\n",
       "    .dataframe tbody tr th:only-of-type {\n",
       "        vertical-align: middle;\n",
       "    }\n",
       "\n",
       "    .dataframe tbody tr th {\n",
       "        vertical-align: top;\n",
       "    }\n",
       "\n",
       "    .dataframe thead th {\n",
       "        text-align: right;\n",
       "    }\n",
       "</style>\n",
       "<table border=\"1\" class=\"dataframe\">\n",
       "  <thead>\n",
       "    <tr style=\"text-align: right;\">\n",
       "      <th></th>\n",
       "      <th>Open</th>\n",
       "      <th>High</th>\n",
       "      <th>Low</th>\n",
       "      <th>Close</th>\n",
       "      <th>Adj Close</th>\n",
       "      <th>Volume</th>\n",
       "    </tr>\n",
       "    <tr>\n",
       "      <th>Date</th>\n",
       "      <th></th>\n",
       "      <th></th>\n",
       "      <th></th>\n",
       "      <th></th>\n",
       "      <th></th>\n",
       "      <th></th>\n",
       "    </tr>\n",
       "  </thead>\n",
       "  <tbody>\n",
       "    <tr>\n",
       "      <th>1980-12-12</th>\n",
       "      <td>0.128348</td>\n",
       "      <td>0.128906</td>\n",
       "      <td>0.128348</td>\n",
       "      <td>0.128348</td>\n",
       "      <td>0.098943</td>\n",
       "      <td>469033600</td>\n",
       "    </tr>\n",
       "    <tr>\n",
       "      <th>1980-12-15</th>\n",
       "      <td>0.122210</td>\n",
       "      <td>0.122210</td>\n",
       "      <td>0.121652</td>\n",
       "      <td>0.121652</td>\n",
       "      <td>0.093781</td>\n",
       "      <td>175884800</td>\n",
       "    </tr>\n",
       "    <tr>\n",
       "      <th>1980-12-16</th>\n",
       "      <td>0.113281</td>\n",
       "      <td>0.113281</td>\n",
       "      <td>0.112723</td>\n",
       "      <td>0.112723</td>\n",
       "      <td>0.086898</td>\n",
       "      <td>105728000</td>\n",
       "    </tr>\n",
       "    <tr>\n",
       "      <th>1980-12-17</th>\n",
       "      <td>0.115513</td>\n",
       "      <td>0.116071</td>\n",
       "      <td>0.115513</td>\n",
       "      <td>0.115513</td>\n",
       "      <td>0.089049</td>\n",
       "      <td>86441600</td>\n",
       "    </tr>\n",
       "    <tr>\n",
       "      <th>1980-12-18</th>\n",
       "      <td>0.118862</td>\n",
       "      <td>0.119420</td>\n",
       "      <td>0.118862</td>\n",
       "      <td>0.118862</td>\n",
       "      <td>0.091630</td>\n",
       "      <td>73449600</td>\n",
       "    </tr>\n",
       "  </tbody>\n",
       "</table>\n",
       "</div>"
      ],
      "text/plain": [
       "                Open      High       Low     Close  Adj Close     Volume\n",
       "Date                                                                    \n",
       "1980-12-12  0.128348  0.128906  0.128348  0.128348   0.098943  469033600\n",
       "1980-12-15  0.122210  0.122210  0.121652  0.121652   0.093781  175884800\n",
       "1980-12-16  0.113281  0.113281  0.112723  0.112723   0.086898  105728000\n",
       "1980-12-17  0.115513  0.116071  0.115513  0.115513   0.089049   86441600\n",
       "1980-12-18  0.118862  0.119420  0.118862  0.118862   0.091630   73449600"
      ]
     },
     "execution_count": 3,
     "metadata": {},
     "output_type": "execute_result"
    }
   ],
   "source": [
    "data.head()"
   ]
  },
  {
   "cell_type": "code",
   "execution_count": 4,
   "metadata": {},
   "outputs": [
    {
     "data": {
      "text/html": [
       "<div>\n",
       "<style scoped>\n",
       "    .dataframe tbody tr th:only-of-type {\n",
       "        vertical-align: middle;\n",
       "    }\n",
       "\n",
       "    .dataframe tbody tr th {\n",
       "        vertical-align: top;\n",
       "    }\n",
       "\n",
       "    .dataframe thead th {\n",
       "        text-align: right;\n",
       "    }\n",
       "</style>\n",
       "<table border=\"1\" class=\"dataframe\">\n",
       "  <thead>\n",
       "    <tr style=\"text-align: right;\">\n",
       "      <th></th>\n",
       "      <th>Open</th>\n",
       "      <th>High</th>\n",
       "      <th>Low</th>\n",
       "      <th>Close</th>\n",
       "      <th>Adj Close</th>\n",
       "      <th>Volume</th>\n",
       "    </tr>\n",
       "    <tr>\n",
       "      <th>Date</th>\n",
       "      <th></th>\n",
       "      <th></th>\n",
       "      <th></th>\n",
       "      <th></th>\n",
       "      <th></th>\n",
       "      <th></th>\n",
       "    </tr>\n",
       "  </thead>\n",
       "  <tbody>\n",
       "    <tr>\n",
       "      <th>2024-09-30</th>\n",
       "      <td>230.039993</td>\n",
       "      <td>233.000000</td>\n",
       "      <td>229.649994</td>\n",
       "      <td>233.000000</td>\n",
       "      <td>233.000000</td>\n",
       "      <td>54541900</td>\n",
       "    </tr>\n",
       "    <tr>\n",
       "      <th>2024-10-01</th>\n",
       "      <td>229.520004</td>\n",
       "      <td>229.649994</td>\n",
       "      <td>223.740005</td>\n",
       "      <td>226.210007</td>\n",
       "      <td>226.210007</td>\n",
       "      <td>63285000</td>\n",
       "    </tr>\n",
       "    <tr>\n",
       "      <th>2024-10-02</th>\n",
       "      <td>225.889999</td>\n",
       "      <td>227.369995</td>\n",
       "      <td>223.020004</td>\n",
       "      <td>226.779999</td>\n",
       "      <td>226.779999</td>\n",
       "      <td>32880600</td>\n",
       "    </tr>\n",
       "    <tr>\n",
       "      <th>2024-10-03</th>\n",
       "      <td>225.139999</td>\n",
       "      <td>226.809998</td>\n",
       "      <td>223.320007</td>\n",
       "      <td>225.669998</td>\n",
       "      <td>225.669998</td>\n",
       "      <td>34044200</td>\n",
       "    </tr>\n",
       "    <tr>\n",
       "      <th>2024-10-04</th>\n",
       "      <td>227.899994</td>\n",
       "      <td>228.000000</td>\n",
       "      <td>224.130005</td>\n",
       "      <td>226.800003</td>\n",
       "      <td>226.800003</td>\n",
       "      <td>37245100</td>\n",
       "    </tr>\n",
       "  </tbody>\n",
       "</table>\n",
       "</div>"
      ],
      "text/plain": [
       "                  Open        High         Low       Close   Adj Close  \\\n",
       "Date                                                                     \n",
       "2024-09-30  230.039993  233.000000  229.649994  233.000000  233.000000   \n",
       "2024-10-01  229.520004  229.649994  223.740005  226.210007  226.210007   \n",
       "2024-10-02  225.889999  227.369995  223.020004  226.779999  226.779999   \n",
       "2024-10-03  225.139999  226.809998  223.320007  225.669998  225.669998   \n",
       "2024-10-04  227.899994  228.000000  224.130005  226.800003  226.800003   \n",
       "\n",
       "              Volume  \n",
       "Date                  \n",
       "2024-09-30  54541900  \n",
       "2024-10-01  63285000  \n",
       "2024-10-02  32880600  \n",
       "2024-10-03  34044200  \n",
       "2024-10-04  37245100  "
      ]
     },
     "execution_count": 4,
     "metadata": {},
     "output_type": "execute_result"
    }
   ],
   "source": [
    "data.tail()"
   ]
  },
  {
   "cell_type": "markdown",
   "metadata": {},
   "source": [
    "Prior to answering the questions below, you may wish to conduct some summary statistics to better understand the dataset."
   ]
  },
  {
   "cell_type": "code",
   "execution_count": 6,
   "metadata": {},
   "outputs": [
    {
     "data": {
      "text/plain": [
       "count    11045.000000\n",
       "mean        23.151404\n",
       "std         47.723148\n",
       "min          0.049665\n",
       "1%           0.068080\n",
       "10%          0.134487\n",
       "25%          0.299107\n",
       "50%          0.535714\n",
       "75%         20.617500\n",
       "90%         80.166501\n",
       "99%        193.641199\n",
       "max        236.479996\n",
       "Name: Open, dtype: float64"
      ]
     },
     "execution_count": 6,
     "metadata": {},
     "output_type": "execute_result"
    },
    {
     "data": {
      "text/plain": [
       "count    11045.000000\n",
       "mean        23.166538\n",
       "std         47.761532\n",
       "min          0.049107\n",
       "1%           0.068080\n",
       "10%          0.133929\n",
       "25%          0.299107\n",
       "50%          0.535714\n",
       "75%         20.631071\n",
       "90%         80.047998\n",
       "99%        193.509600\n",
       "max        234.820007\n",
       "Name: Close, dtype: float64"
      ]
     },
     "execution_count": 6,
     "metadata": {},
     "output_type": "execute_result"
    },
    {
     "data": {
      "text/plain": [
       "count    11045.000000\n",
       "mean        23.400070\n",
       "std         48.231665\n",
       "min          0.049665\n",
       "1%           0.068638\n",
       "10%          0.136161\n",
       "25%          0.305357\n",
       "50%          0.543527\n",
       "75%         20.792500\n",
       "90%         80.860001\n",
       "99%        194.844000\n",
       "max        237.229996\n",
       "Name: High, dtype: float64"
      ]
     },
     "execution_count": 6,
     "metadata": {},
     "output_type": "execute_result"
    },
    {
     "data": {
      "text/plain": [
       "count    11045.000000\n",
       "mean        22.912102\n",
       "std         47.243446\n",
       "min          0.049107\n",
       "1%           0.068080\n",
       "10%          0.131919\n",
       "25%          0.292411\n",
       "50%          0.526786\n",
       "75%         20.409286\n",
       "90%         79.451999\n",
       "99%        192.255597\n",
       "max        233.089996\n",
       "Name: Low, dtype: float64"
      ]
     },
     "execution_count": 6,
     "metadata": {},
     "output_type": "execute_result"
    },
    {
     "data": {
      "text/plain": [
       "count    1.104500e+04\n",
       "mean     3.169600e+08\n",
       "std      3.351879e+08\n",
       "min      0.000000e+00\n",
       "1%       2.282291e+07\n",
       "10%      6.992058e+07\n",
       "25%      1.123136e+08\n",
       "50%      2.047020e+08\n",
       "75%      3.977512e+08\n",
       "90%      7.128083e+08\n",
       "99%      1.650770e+09\n",
       "max      7.421641e+09\n",
       "Name: Volume, dtype: float64"
      ]
     },
     "execution_count": 6,
     "metadata": {},
     "output_type": "execute_result"
    }
   ],
   "source": [
    "# Series is essentially the columns, so we try and access this information about them first.\n",
    "stock_o.describe(percentiles = [0.01, 0.1, 0.25, 0.5, 0.75, 0.9, 0.99])\n",
    "stock_c.describe(percentiles = [0.01, 0.1, 0.25, 0.5, 0.75, 0.9, 0.99])\n",
    "stock_h.describe(percentiles = [0.01, 0.1, 0.25, 0.5, 0.75, 0.9, 0.99])\n",
    "stock_l.describe(percentiles = [0.01, 0.1, 0.25, 0.5, 0.75, 0.9, 0.99])\n",
    "stock_v.describe(percentiles = [0.01, 0.1, 0.25, 0.5, 0.75, 0.9, 0.99])"
   ]
  },
  {
   "cell_type": "markdown",
   "metadata": {},
   "source": [
    "## 1. <a id='toc1_'></a>[Q1](#toc0_)"
   ]
  },
  {
   "cell_type": "markdown",
   "metadata": {},
   "source": [
    "### 1.1. <a id='toc1_1_'></a>[How many trading days does this data set cover? (fill in the number in Camino)](#toc0_)"
   ]
  },
  {
   "cell_type": "code",
   "execution_count": 170,
   "metadata": {},
   "outputs": [
    {
     "name": "stdout",
     "output_type": "stream",
     "text": [
      "The data set covers 11045 days\n"
     ]
    }
   ],
   "source": [
    "tradingDayCount = data.index.nunique()\n",
    "print(\"The data set covers\", tradingDayCount, \"days\")"
   ]
  },
  {
   "cell_type": "markdown",
   "metadata": {},
   "source": [
    "### 1.2. <a id='toc1_2_'></a>[What's the open price on 2024-08-28? (choose the closest price in Camino)](#toc0_)"
   ]
  },
  {
   "cell_type": "code",
   "execution_count": 136,
   "metadata": {},
   "outputs": [
    {
     "name": "stdout",
     "output_type": "stream",
     "text": [
      "The open price on 2024-08-28 is 227.92\n"
     ]
    }
   ],
   "source": [
    "findOpenPrice = (stock_o['2024-08-28']).round(2)\n",
    "print(\"The open price on 2024-08-28 is\", findOpenPrice)"
   ]
  },
  {
   "cell_type": "markdown",
   "metadata": {},
   "source": [
    "### 1.3. <a id='toc1_3_'></a>[What's the average closing price in the 1st quarter of 2024 (2024-01-01 to 2024-03-31)? (choose the closest price in Camino)](#toc0_)"
   ]
  },
  {
   "cell_type": "code",
   "execution_count": 17,
   "metadata": {},
   "outputs": [
    {
     "name": "stdout",
     "output_type": "stream",
     "text": [
      "The average average closing price in the 1st quarter of 2024 (2024-01-01 to 2024-03-31) is approximately 181.83\n"
     ]
    }
   ],
   "source": [
    "averageClosingPrice = stock_c['2024-01-01':'2024-03-31'].mean().round(2)\n",
    "print(\"The average average closing price in the 1st quarter of 2024 (2024-01-01 to 2024-03-31) is approximately\", averageClosingPrice)"
   ]
  },
  {
   "cell_type": "markdown",
   "metadata": {},
   "source": [
    "### 1.4. <a id='toc1_4_'></a>[Based on the day's high and low, find the top 5 dates with the biggest value change within 1 trading day. Sort them based on value change, highest on top. (choose the 1st date in Camino)](#toc0_)"
   ]
  },
  {
   "cell_type": "code",
   "execution_count": 172,
   "metadata": {},
   "outputs": [
    {
     "data": {
      "text/plain": [
       "Date\n",
       "2024-08-05    17.500000\n",
       "2024-06-11    13.529999\n",
       "2024-06-12    13.300003\n",
       "2020-09-04    12.809998\n",
       "2020-09-02    10.979996\n",
       "dtype: float64"
      ]
     },
     "execution_count": 172,
     "metadata": {},
     "output_type": "execute_result"
    }
   ],
   "source": [
    "# Find difference between the high and low values\n",
    "# Get the top 5 values using the head() function\n",
    "# Note: We don't need to call head(5) because head() returns 5 by default\n",
    "difference = stock_h - stock_l   \n",
    "difference.sort_values(ascending=False).head()"
   ]
  },
  {
   "cell_type": "markdown",
   "metadata": {},
   "source": [
    "### 1.5. <a id='toc1_5_'></a>[Plot a line graph of the closing price over the observed dates. (pick the command that you use to plot the graph in Camino)](#toc0_)"
   ]
  },
  {
   "cell_type": "code",
   "execution_count": 171,
   "metadata": {},
   "outputs": [
    {
     "data": {
      "text/plain": [
       "<Axes: xlabel='Date'>"
      ]
     },
     "execution_count": 171,
     "metadata": {},
     "output_type": "execute_result"
    },
    {
     "data": {
      "text/plain": [
       "Text(0.5, 0, 'Date')"
      ]
     },
     "execution_count": 171,
     "metadata": {},
     "output_type": "execute_result"
    },
    {
     "data": {
      "text/plain": [
       "Text(0, 0.5, 'The Closing Price')"
      ]
     },
     "execution_count": 171,
     "metadata": {},
     "output_type": "execute_result"
    },
    {
     "data": {
      "image/png": "[encoded data removed]",
      "text/plain": [
       "<Figure size 640x480 with 1 Axes>"
      ]
     },
     "metadata": {},
     "output_type": "display_data"
    }
   ],
   "source": [
    "import matplotlib.pyplot as plt \n",
    "stock_c.plot()\n",
    "plt.xlabel('Date')\n",
    "plt.ylabel('The Closing Price')\n",
    "plt.show()"
   ]
  },
  {
   "cell_type": "markdown",
   "metadata": {},
   "source": [
    "### 1.6. <a id='toc1_6_'></a>[Plot  line graph of the closing price over the observed dates, focusing on beginning of 2020 to the most recent date in the dataset. Do not use hard-coded date for the most recent date.](#toc0_)"
   ]
  },
  {
   "cell_type": "code",
   "execution_count": 173,
   "metadata": {},
   "outputs": [
    {
     "data": {
      "text/plain": [
       "<Axes: xlabel='Date'>"
      ]
     },
     "execution_count": 173,
     "metadata": {},
     "output_type": "execute_result"
    },
    {
     "data": {
      "text/plain": [
       "Text(0.5, 0, 'Date')"
      ]
     },
     "execution_count": 173,
     "metadata": {},
     "output_type": "execute_result"
    },
    {
     "data": {
      "text/plain": [
       "Text(0, 0.5, 'The Closing Price')"
      ]
     },
     "execution_count": 173,
     "metadata": {},
     "output_type": "execute_result"
    },
    {
     "data": {
      "image/png": "[encoded data removed]",
      "text/plain": [
       "<Figure size 640x480 with 1 Axes>"
      ]
     },
     "metadata": {},
     "output_type": "display_data"
    }
   ],
   "source": [
    "# Step 1: Filtering  closing price series to include only the dates from the beginning of 2020 to the most recent date in the dataset\n",
    "# Step 2: Plot the filtered closing price series \n",
    "stock_c['2020':].plot() #[2020:] because it starts at 2020 and ends at the last date we have (in 2024)\n",
    "plt.xlabel('Date')\n",
    "plt.ylabel('The Closing Price')\n",
    "plt.show()"
   ]
  },
  {
   "cell_type": "markdown",
   "metadata": {},
   "source": [
    "## 2. <a id='toc2_'></a>[Q2](#toc0_)"
   ]
  },
  {
   "cell_type": "markdown",
   "metadata": {},
   "source": [
    "### 2.1. <a id='toc2_1_'></a>[For how many trading days does the stock price close at above 50 dollars? (fill in the number in Camino)](#toc0_)"
   ]
  },
  {
   "cell_type": "code",
   "execution_count": 180,
   "metadata": {},
   "outputs": [
    {
     "name": "stdout",
     "output_type": "stream",
     "text": [
      "The stock price closed at above $50 on 1413 days.\n"
     ]
    }
   ],
   "source": [
    "# Using filtering methodology \n",
    "tradingDaysSum = (stock_c > 50).sum()\n",
    "print(\"The stock price closed at above $50 on\", tradingDaysSum, \"days.\")"
   ]
  },
  {
   "cell_type": "markdown",
   "metadata": {},
   "source": [
    "### 2.2. <a id='toc2_2_'></a>[When is the first time that the stock closes at more than 50 dollars? Show the date only. (choose the right date in Camino)](#toc0_)"
   ]
  },
  {
   "cell_type": "code",
   "execution_count": 181,
   "metadata": {},
   "outputs": [
    {
     "data": {
      "text/plain": [
       "Timestamp('2018-08-01 00:00:00')"
      ]
     },
     "execution_count": 181,
     "metadata": {},
     "output_type": "execute_result"
    }
   ],
   "source": [
    "# Using filtering methodology \n",
    "# Using idxmax() here because we want to find the first time this happens and the index which is the date \n",
    "(stock_c > 50).idxmax() "
   ]
  },
  {
   "cell_type": "markdown",
   "metadata": {},
   "source": [
    "### 2.3. <a id='toc2_3_'></a>[Within the dates with a closing price at more than 50 dollars, find out how many days the trading volume is higher than 100 million shares (100,000,000). (choose the right number in Camino)](#toc0_)"
   ]
  },
  {
   "cell_type": "code",
   "execution_count": 184,
   "metadata": {},
   "outputs": [
    {
     "name": "stdout",
     "output_type": "stream",
     "text": [
      "The trading volume is higher than 100 million shares and clsing price is at more than 50 dollars on 486 trading days.\n"
     ]
    }
   ],
   "source": [
    "# Filter using bitwise & \n",
    "# We have to meet both conditions  \n",
    "tradingDaysSum2 = ((stock_c > 50) & (stock_v > 100000000)).sum()\n",
    "print(\"The trading volume is higher than 100 million shares and clsing price is at more than 50 dollars on\", tradingDaysSum2, \"trading days.\")"
   ]
  },
  {
   "cell_type": "markdown",
   "metadata": {},
   "source": [
    "## 3. <a id='toc3_'></a>[Q3](#toc0_)"
   ]
  },
  {
   "cell_type": "markdown",
   "metadata": {},
   "source": [
    "### 3.1. <a id='toc3_1_'></a>[How many days before 2022-05-31 did the stock trade with a closing price above 100 dollars? Show the date and stock price.  (choose the number of days in Camino)](#toc0_)"
   ]
  },
  {
   "cell_type": "code",
   "execution_count": 194,
   "metadata": {
    "scrolled": true
   },
   "outputs": [
    {
     "data": {
      "text/plain": [
       "Date\n",
       "2022-01-03    182.009995\n",
       "Name: Close, dtype: float64"
      ]
     },
     "execution_count": 194,
     "metadata": {},
     "output_type": "execute_result"
    },
    {
     "name": "stdout",
     "output_type": "stream",
     "text": [
      "The stock traded with a closing price above 100 dollars 461 days before.\n"
     ]
    }
   ],
   "source": [
    "filteredStock = stock_c[stock_c > 100]\n",
    "daysBeforeCount = filteredStock[filteredStock.index < '2022-05-31']\n",
    "daysBeforeCount.nlargest(1)\n",
    "print(\"The stock traded with a closing price above 100 dollars\", len(daysBeforeCount), \"days before.\")"
   ]
  },
  {
   "cell_type": "markdown",
   "metadata": {},
   "source": [
    "### 3.2. <a id='toc3_2_'></a>[ Show the top 5 trading volumes and their corresponding days when the stock closing price is over 100 dollars. (choose the date with the largest volume in Camino)](#toc0_)"
   ]
  },
  {
   "cell_type": "code",
   "execution_count": 195,
   "metadata": {},
   "outputs": [
    {
     "data": {
      "text/plain": [
       "Date\n",
       "2020-07-31    374336800\n",
       "2020-08-24    345937600\n",
       "2020-08-21    338054800\n",
       "2020-09-04    332607200\n",
       "2024-09-20    318679900\n",
       "Name: Volume, dtype: int64"
      ]
     },
     "execution_count": 195,
     "metadata": {},
     "output_type": "execute_result"
    }
   ],
   "source": [
    "topFiveVolumes = stock_v[(stock_c[stock_c > 100]).index].nlargest()\n",
    "topFiveVolumes"
   ]
  },
  {
   "cell_type": "markdown",
   "metadata": {},
   "source": [
    "### 3.3. <a id='toc3_3_'></a>[Based on the top 5 trading volume dates when the stock's closing price is over 100 dollars, find the corresponding closing prices for the dates.  Sort these dates based on price, with the highest one on top. (choose the first date in Camino)](#toc0_)"
   ]
  },
  {
   "cell_type": "code",
   "execution_count": 197,
   "metadata": {},
   "outputs": [
    {
     "data": {
      "text/plain": [
       "Date\n",
       "2024-09-20    228.199997\n",
       "2020-08-24    125.857498\n",
       "2020-08-21    124.370003\n",
       "2020-09-04    120.959999\n",
       "2020-07-31    106.260002\n",
       "Name: Close, dtype: float64"
      ]
     },
     "execution_count": 197,
     "metadata": {},
     "output_type": "execute_result"
    }
   ],
   "source": [
    "# Get the closing prices for the top 5 trading volume dates\n",
    "stockClosingPrices = stock_c[topFiveVolumes.index]\n",
    "# Sort the dates based on price (i.e. values)\n",
    "sortedDays = stockClosingPrices.sort_values(ascending=False)\n",
    "sortedDays"
   ]
  },
  {
   "cell_type": "markdown",
   "metadata": {},
   "source": [
    "### 3.4. <a id='toc3_4_'></a>[Based on the top 5 trading volume dates when the stock's closing price is over 100 dollars, on which date does the stock gain the most dollars per share? Assume one buys at open and sells at close. (choose the date in Camino)](#toc0_)"
   ]
  },
  {
   "cell_type": "code",
   "execution_count": 198,
   "metadata": {},
   "outputs": [
    {
     "data": {
      "text/plain": [
       "Timestamp('2020-08-21 00:00:00')"
      ]
     },
     "execution_count": 198,
     "metadata": {},
     "output_type": "execute_result"
    }
   ],
   "source": [
    "# Gain per share = 'Close' price - 'Open' price \n",
    "# Using idxmax() to find the index of the day with the highest gain per share\n",
    "gainPerShare = stock_c[topFiveVolumes.index] - stock_o[topFiveVolumes.index]\n",
    "dateWithHighestGain = gainPerShare.idxmax()\n",
    "dateWithHighestGain"
   ]
  }
 ],
 "metadata": {
  "kernelspec": {
   "display_name": "Python 3 (ipykernel)",
   "language": "python",
   "name": "python3"
  },
  "language_info": {
   "codemirror_mode": {
    "name": "ipython",
    "version": 3
   },
   "file_extension": ".py",
   "mimetype": "text/x-python",
   "name": "python",
   "nbconvert_exporter": "python",
   "pygments_lexer": "ipython3",
   "version": "3.10.9"
  },
  "toc": {
   "base_numbering": 1,
   "nav_menu": {},
   "number_sections": true,
   "sideBar": true,
   "skip_h1_title": true,
   "title_cell": "Table of Contents",
   "title_sidebar": "Contents",
   "toc_cell": true,
   "toc_position": {},
   "toc_section_display": true,
   "toc_window_display": true
  }
 },
 "nbformat": 4,
 "nbformat_minor": 4
}
