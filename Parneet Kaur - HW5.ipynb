{
 "cells": [
  {
   "cell_type": "markdown",
   "metadata": {},
   "source": [
    "\n",
    "# OMIS 114: Homework 5"
   ]
  },
  {
   "cell_type": "markdown",
   "metadata": {},
   "source": [
    "#### Student Name: Parneet Kaur\n",
    "#### OMIS 114\n",
    "#### Professor Wilson Lin"
   ]
  },
  {
   "cell_type": "markdown",
   "metadata": {
    "toc": true
   },
   "source": [
    "<h1>Table of Contents<span class=\"tocSkip\"></span></h1>\n",
    "<div class=\"toc\"><ul class=\"toc-item\"><li><span><a href=\"#Q1\" data-toc-modified-id=\"Q1-1\"><span class=\"toc-item-num\">1&nbsp;&nbsp;</span>Q1</a></span><ul class=\"toc-item\"><li><span><a href=\"#Q1.1,---How-many-records-are-in-the-Dataframe?-(In-Camino,-pick-the-right-number)\" data-toc-modified-id=\"Q1.1,---How-many-records-are-in-the-Dataframe?-(In-Camino,-pick-the-right-number)-1.1\"><span class=\"toc-item-num\">1.1&nbsp;&nbsp;</span>Q1.1,   How many records are in the Dataframe? (In Camino, pick the right number)</a></span></li><li><span><a href=\"#Q1.2,---In-column-city('cy'),-how-many-records-are-NaN?-(In-Camino,-pick-the-right-number)\" data-toc-modified-id=\"Q1.2,---In-column-city('cy'),-how-many-records-are-NaN?-(In-Camino,-pick-the-right-number)-1.2\"><span class=\"toc-item-num\">1.2&nbsp;&nbsp;</span>Q1.2,   In column city('cy'), how many records are NaN? (In Camino, pick the right number)</a></span></li><li><span><a href=\"#Q1.3,---Excluding-NaN,-how-many-different-countries-does-this-dataset-include?--(In-Camino,-pick-the-right-number)\" data-toc-modified-id=\"Q1.3,---Excluding-NaN,-how-many-different-countries-does-this-dataset-include?--(In-Camino,-pick-the-right-number)-1.3\"><span class=\"toc-item-num\">1.3&nbsp;&nbsp;</span>Q1.3,   Excluding NaN, how many different countries does this dataset include?  (In Camino, pick the right number)</a></span></li><li><span><a href=\"#Q1.4,-Outside-of-the-US,-what-are-the-top-5-cities-using-the-Bitly-service?-(In-Camino,-choose-the-city-name-with-the-most-usage-(most-records))\" data-toc-modified-id=\"Q1.4,-Outside-of-the-US,-what-are-the-top-5-cities-using-the-Bitly-service?-(In-Camino,-choose-the-city-name-with-the-most-usage-(most-records))-1.4\"><span class=\"toc-item-num\">1.4&nbsp;&nbsp;</span>Q1.4, Outside of the US, what are the top 5 cities using the Bitly service? (In Camino, choose the city name with the most usage (most records))</a></span></li></ul></li><li><span><a href=\"#Q2\" data-toc-modified-id=\"Q2-2\"><span class=\"toc-item-num\">2&nbsp;&nbsp;</span>Q2</a></span><ul class=\"toc-item\"><li><span><a href=\"#Q2.1,-How-many-records-are-from-Russia?--(In-Camino,-pick-the-right-number)\" data-toc-modified-id=\"Q2.1,-How-many-records-are-from-Russia?--(In-Camino,-pick-the-right-number)-2.1\"><span class=\"toc-item-num\">2.1&nbsp;&nbsp;</span>Q2.1, How many records are from Russia?  (In Camino, pick the right number)</a></span></li><li><span><a href=\"#Q2.2,-In-the-records-from-Russia,-which-city-has-the-highest-usage-count?--(In-Camino,-pick-the-right-city-name)\" data-toc-modified-id=\"Q2.2,-In-the-records-from-Russia,-which-city-has-the-highest-usage-count?--(In-Camino,-pick-the-right-city-name)-2.2\"><span class=\"toc-item-num\">2.2&nbsp;&nbsp;</span>Q2.2, In the records from Russia, which city has the highest usage count?  (In Camino, pick the right city name)</a></span></li><li><span><a href=\"#Q2.3,-In-records-from-Russia,-how-many-access-cia.gov?--(In-Camino,-pick-the-right-number)\" data-toc-modified-id=\"Q2.3,-In-records-from-Russia,-how-many-access-cia.gov?--(In-Camino,-pick-the-right-number)-2.3\"><span class=\"toc-item-num\">2.3&nbsp;&nbsp;</span>Q2.3, In records from Russia, how many access cia.gov?  (In Camino, pick the right number)</a></span></li></ul></li><li><span><a href=\"#Q3-Let-us-further-explore-the-time-zones-in-this-data-set-(the-tz-field).\" data-toc-modified-id=\"Q3-Let-us-further-explore-the-time-zones-in-this-data-set-(the-tz-field).-3\"><span class=\"toc-item-num\">3&nbsp;&nbsp;</span>Q3 Let us further explore the time zones in this data set (the <strong>tz</strong> field).</a></span><ul class=\"toc-item\"><li><span><a href=\"#Q3.1,-Let's-clean-the-tz-field.-If-it-is-NaN,-fill-it-with-'Missing'.-If-it-is-empty-(i.e.,-&quot;&quot;),-fill-it-with-'Unknown'.-After-these-steps,-how-many-records-are-'Missing'-and-how-many-are-in-'Unknown'?--(In-Camino,-fill-in-these-two-numbers-in-the-format-of-'Missing'/'Unknown'.-Don't-leave-any-spaces-in-the-answer.)\" data-toc-modified-id=\"Q3.1,-Let's-clean-the-tz-field.-If-it-is-NaN,-fill-it-with-'Missing'.-If-it-is-empty-(i.e.,-&quot;&quot;),-fill-it-with-'Unknown'.-After-these-steps,-how-many-records-are-'Missing'-and-how-many-are-in-'Unknown'?--(In-Camino,-fill-in-these-two-numbers-in-the-format-of-'Missing'/'Unknown'.-Don't-leave-any-spaces-in-the-answer.)-3.1\"><span class=\"toc-item-num\">3.1&nbsp;&nbsp;</span>Q3.1, Let's clean the tz field. If it is NaN, fill it with 'Missing'. If it is empty (i.e., \"\"), fill it with 'Unknown'. After these steps, how many records are 'Missing' and how many are in 'Unknown'?  (In Camino, fill in these two numbers in the format of 'Missing'/'Unknown'. Don't leave any spaces in the answer.)</a></span></li><li><span><a href=\"#Q3.2,-What-are-the-top-10-timezones-(e.g.,-most-frequently-occuring-timezones-in-the-records)-in-this-data-set?-Exclude-Unknown-and-Missing.-(In-Camino,-pick-the-10th-place-timezone)\" data-toc-modified-id=\"Q3.2,-What-are-the-top-10-timezones-(e.g.,-most-frequently-occuring-timezones-in-the-records)-in-this-data-set?-Exclude-Unknown-and-Missing.-(In-Camino,-pick-the-10th-place-timezone)-3.2\"><span class=\"toc-item-num\">3.2&nbsp;&nbsp;</span>Q3.2, What are the top 10 timezones (e.g., most frequently occuring timezones in the records) in this data set? Exclude Unknown and Missing. (In Camino, pick the 10th place timezone)</a></span></li><li><span><a href=\"#Q3.3-Use-Seaborn-to-make-a-horizontal-bar-plot-based-on-the-previous-question.-(Use-tz-as-Y-axis).--(In-Camino,-select-the-cities-in-the-first-3-timezones,-multiple-choices)\" data-toc-modified-id=\"Q3.3-Use-Seaborn-to-make-a-horizontal-bar-plot-based-on-the-previous-question.-(Use-tz-as-Y-axis).--(In-Camino,-select-the-cities-in-the-first-3-timezones,-multiple-choices)-3.3\"><span class=\"toc-item-num\">3.3&nbsp;&nbsp;</span>Q3.3 Use Seaborn to make a horizontal bar plot based on the previous question. (Use tz as Y-axis).  (In Camino, select the cities in the first 3 timezones, multiple choices)</a></span></li><li><span><a href=\"#Q3.4,-Based-on-the-'c'-field-(Country),-count-how-many-records-are-from-the-United-States-(US).-Then,-based-on-the-'America'-keyword-on-the-'tz'-field,-count-how-many-records-are-from-America.-(In-Camino,-fill-in-the-two-numbers-in-the-format-of-count_by_c/count_by_tz.-Don't-leave-any-spaces-in-the-answer.)\" data-toc-modified-id=\"Q3.4,-Based-on-the-'c'-field-(Country),-count-how-many-records-are-from-the-United-States-(US).-Then,-based-on-the-'America'-keyword-on-the-'tz'-field,-count-how-many-records-are-from-America.-(In-Camino,-fill-in-the-two-numbers-in-the-format-of-count_by_c/count_by_tz.-Don't-leave-any-spaces-in-the-answer.)-3.4\"><span class=\"toc-item-num\">3.4&nbsp;&nbsp;</span>Q3.4, Based on the 'c' field (Country), count how many records are from the United States (US). Then, based on the 'America' keyword on the 'tz' field, count how many records are from America. (In Camino, fill in the two numbers in the format of count_by_c/count_by_tz. Don't leave any spaces in the answer.)</a></span></li><li><span><a href=\"#Q3.5,--Based-on-Q3.4,-are-both-counts-identical?-If-not,-find-out-how-many-records-have-a-timezone-with-'America'-but-the-Country-is-not-United-States.-(In-Camino,-select-the-correct-number)\" data-toc-modified-id=\"Q3.5,--Based-on-Q3.4,-are-both-counts-identical?-If-not,-find-out-how-many-records-have-a-timezone-with-'America'-but-the-Country-is-not-United-States.-(In-Camino,-select-the-correct-number)-3.5\"><span class=\"toc-item-num\">3.5&nbsp;&nbsp;</span>Q3.5,  Based on Q3.4, are both counts identical? If not, find out how many records have a timezone with 'America' but the Country is not United States. (In Camino, select the correct number)</a></span></li></ul></li></ul></div>"
   ]
  },
  {
   "cell_type": "markdown",
   "metadata": {},
   "source": [
    "<b>Penalties:</b> You will incur penalties if:\n",
    "<ul>\n",
    "<li>Your code is wrong</li>\n",
    "<li>Your code does not work on different data</li>\n",
    "<li>Your code is unnecessarily slow (you use a for loop, or you use DataFrame.apply unnecessarily, etc)\n",
    "<li>You answer is composed of more than one output, unless explicitly permitted\n",
    "</ul>"
   ]
  },
  {
   "cell_type": "code",
   "execution_count": 1,
   "metadata": {},
   "outputs": [],
   "source": [
    "import pandas as pd\n",
    "import seaborn as sns\n",
    "import numpy as np\n",
    "import warnings\n",
    "warnings.filterwarnings('ignore')"
   ]
  },
  {
   "cell_type": "code",
   "execution_count": 2,
   "metadata": {},
   "outputs": [],
   "source": [
    "# print all the outputs in a cell\n",
    "from IPython.core.interactiveshell import InteractiveShell\n",
    "InteractiveShell.ast_node_interactivity = \"all\""
   ]
  },
  {
   "cell_type": "markdown",
   "metadata": {},
   "source": [
    "# Data Set Description: USA.gov Data from Bitly"
   ]
  },
  {
   "cell_type": "markdown",
   "metadata": {},
   "source": [
    "In 2011, URL shortening service Bitly *Bitly.com* partnered with the US goverment website *USA.gov* to provide a feed of anonymous data gathered from users who shorten links ending with *.gov* or *.mil*.  This service was shut down at 2017. "
   ]
  },
  {
   "cell_type": "markdown",
   "metadata": {},
   "source": [
    "In this database, each line contains a common form of web data known as **JSON**, which stands for *JavaScript Object Notation*. Python has both built-in and 3rd party libraries for converting a JSON string into a Python dictionary object. "
   ]
  },
  {
   "cell_type": "markdown",
   "metadata": {},
   "source": [
    "Each line has a number of identifying attributes.\n",
    "\n",
    "In [18]: records[0] <br>\n",
    "Out[18]: <br>\n",
    "{'a': 'Mozilla/5.0 (Windows NT 6.1; WOW64) AppleWebKit/535.11 (KHTML, like Gecko)\n",
    "Chrome/17.0.963.78 Safari/535.11', <br>\n",
    " 'al': 'en-US,en;q=0.8', <br>\n",
    " 'c': 'US',<br>\n",
    " 'cy': 'Danvers',<br>\n",
    " 'g': 'A6qOVH',<br>\n",
    " 'gr': 'MA',<br>\n",
    " 'h': 'wfLQtf',<br>\n",
    " 'hc': 1331822918,<br>\n",
    " 'hh': '1.usa.gov',<br>\n",
    " 'l': 'orofrog',<br>\n",
    " 'll': [42.576698, -70.954903],<br>\n",
    " 'nk': 1,<br>\n",
    " 'r': 'http://www.facebook.com/l/7AQEFzjSi/1.usa.gov/wfLQtf',<br>\n",
    " 't': 1331923247,<br>\n",
    " 'tz': 'America/New_York',<br>\n",
    " 'u': 'http://www.ncbi.nlm.nih.gov/pubmed/22415991'}<br>\n",
    " "
   ]
  },
  {
   "cell_type": "markdown",
   "metadata": {},
   "source": [
    "If you would like to read more about the data and some analysis examples prior to starting the homework, feel free to check Chapter 13.1 of Wes McKinney's book: https://wesmckinney.com/book/data-analysis-examples.html"
   ]
  },
  {
   "cell_type": "code",
   "execution_count": 4,
   "metadata": {},
   "outputs": [],
   "source": [
    "import json\n",
    "file_name = 'bitly_usagov_example.txt'\n",
    "records = [json.loads(line) for line in open(file_name)]"
   ]
  },
  {
   "cell_type": "code",
   "execution_count": 6,
   "metadata": {},
   "outputs": [
    {
     "data": {
      "text/plain": [
       "[{'a': 'Mozilla/5.0 (Windows NT 6.1; WOW64) AppleWebKit/535.11 (KHTML, like Gecko) Chrome/17.0.963.78 Safari/535.11',\n",
       "  'c': 'US',\n",
       "  'nk': 1,\n",
       "  'tz': 'America/New_York',\n",
       "  'gr': 'MA',\n",
       "  'g': 'A6qOVH',\n",
       "  'h': 'wfLQtf',\n",
       "  'l': 'orofrog',\n",
       "  'al': 'en-US,en;q=0.8',\n",
       "  'hh': '1.usa.gov',\n",
       "  'r': 'http://www.facebook.com/l/7AQEFzjSi/1.usa.gov/wfLQtf',\n",
       "  'u': 'http://www.ncbi.nlm.nih.gov/pubmed/22415991',\n",
       "  't': 1331923247,\n",
       "  'hc': 1331822918,\n",
       "  'cy': 'Danvers',\n",
       "  'll': [42.576698, -70.954903]},\n",
       " {'a': 'GoogleMaps/RochesterNY',\n",
       "  'c': 'US',\n",
       "  'nk': 0,\n",
       "  'tz': 'America/Denver',\n",
       "  'gr': 'UT',\n",
       "  'g': 'mwszkS',\n",
       "  'h': 'mwszkS',\n",
       "  'l': 'bitly',\n",
       "  'hh': 'j.mp',\n",
       "  'r': 'http://www.AwareMap.com/',\n",
       "  'u': 'http://www.monroecounty.gov/etc/911/rss.php',\n",
       "  't': 1331923249,\n",
       "  'hc': 1308262393,\n",
       "  'cy': 'Provo',\n",
       "  'll': [40.218102, -111.613297]}]"
      ]
     },
     "execution_count": 6,
     "metadata": {},
     "output_type": "execute_result"
    }
   ],
   "source": [
    "records[0:2]"
   ]
  },
  {
   "cell_type": "markdown",
   "metadata": {},
   "source": [
    "Key columns of interest for this homework:\n",
    "\n",
    "* **a**: information about browser, device or application used to perform the URL shortening. \n",
    "* **c**: country\n",
    "* **cy**: city\n",
    "* **gr**: state\n",
    "* **ll**: longitude and latitude\n",
    "* **tz**: TimeZone\n",
    "* **u**: original URL being shorted"
   ]
  },
  {
   "cell_type": "markdown",
   "metadata": {},
   "source": [
    "## Q1\n",
    "We need to first convert the dictionary *records* into a DataFrame. \n",
    "\n",
    "\n",
    "*Hint*: https://pandas.pydata.org/pandas-docs/stable/reference/api/pandas.DataFrame.from_dict.html \n"
   ]
  },
  {
   "cell_type": "code",
   "execution_count": 9,
   "metadata": {},
   "outputs": [
    {
     "data": {
      "text/html": [
       "<div>\n",
       "<style scoped>\n",
       "    .dataframe tbody tr th:only-of-type {\n",
       "        vertical-align: middle;\n",
       "    }\n",
       "\n",
       "    .dataframe tbody tr th {\n",
       "        vertical-align: top;\n",
       "    }\n",
       "\n",
       "    .dataframe thead th {\n",
       "        text-align: right;\n",
       "    }\n",
       "</style>\n",
       "<table border=\"1\" class=\"dataframe\">\n",
       "  <thead>\n",
       "    <tr style=\"text-align: right;\">\n",
       "      <th></th>\n",
       "      <th>a</th>\n",
       "      <th>c</th>\n",
       "      <th>nk</th>\n",
       "      <th>tz</th>\n",
       "      <th>gr</th>\n",
       "      <th>g</th>\n",
       "      <th>h</th>\n",
       "      <th>l</th>\n",
       "      <th>al</th>\n",
       "      <th>hh</th>\n",
       "      <th>r</th>\n",
       "      <th>u</th>\n",
       "      <th>t</th>\n",
       "      <th>hc</th>\n",
       "      <th>cy</th>\n",
       "      <th>ll</th>\n",
       "      <th>_heartbeat_</th>\n",
       "      <th>kw</th>\n",
       "    </tr>\n",
       "  </thead>\n",
       "  <tbody>\n",
       "    <tr>\n",
       "      <th>0</th>\n",
       "      <td>Mozilla/5.0 (Windows NT 6.1; WOW64) AppleWebKi...</td>\n",
       "      <td>US</td>\n",
       "      <td>1.0</td>\n",
       "      <td>America/New_York</td>\n",
       "      <td>MA</td>\n",
       "      <td>A6qOVH</td>\n",
       "      <td>wfLQtf</td>\n",
       "      <td>orofrog</td>\n",
       "      <td>en-US,en;q=0.8</td>\n",
       "      <td>1.usa.gov</td>\n",
       "      <td>http://www.facebook.com/l/7AQEFzjSi/1.usa.gov/...</td>\n",
       "      <td>http://www.ncbi.nlm.nih.gov/pubmed/22415991</td>\n",
       "      <td>1.331923e+09</td>\n",
       "      <td>1.331823e+09</td>\n",
       "      <td>Danvers</td>\n",
       "      <td>[42.576698, -70.954903]</td>\n",
       "      <td>NaN</td>\n",
       "      <td>NaN</td>\n",
       "    </tr>\n",
       "    <tr>\n",
       "      <th>1</th>\n",
       "      <td>GoogleMaps/RochesterNY</td>\n",
       "      <td>US</td>\n",
       "      <td>0.0</td>\n",
       "      <td>America/Denver</td>\n",
       "      <td>UT</td>\n",
       "      <td>mwszkS</td>\n",
       "      <td>mwszkS</td>\n",
       "      <td>bitly</td>\n",
       "      <td>NaN</td>\n",
       "      <td>j.mp</td>\n",
       "      <td>http://www.AwareMap.com/</td>\n",
       "      <td>http://www.monroecounty.gov/etc/911/rss.php</td>\n",
       "      <td>1.331923e+09</td>\n",
       "      <td>1.308262e+09</td>\n",
       "      <td>Provo</td>\n",
       "      <td>[40.218102, -111.613297]</td>\n",
       "      <td>NaN</td>\n",
       "      <td>NaN</td>\n",
       "    </tr>\n",
       "    <tr>\n",
       "      <th>2</th>\n",
       "      <td>Mozilla/4.0 (compatible; MSIE 8.0; Windows NT ...</td>\n",
       "      <td>US</td>\n",
       "      <td>1.0</td>\n",
       "      <td>America/New_York</td>\n",
       "      <td>DC</td>\n",
       "      <td>xxr3Qb</td>\n",
       "      <td>xxr3Qb</td>\n",
       "      <td>bitly</td>\n",
       "      <td>en-US</td>\n",
       "      <td>1.usa.gov</td>\n",
       "      <td>http://t.co/03elZC4Q</td>\n",
       "      <td>http://boxer.senate.gov/en/press/releases/0316...</td>\n",
       "      <td>1.331923e+09</td>\n",
       "      <td>1.331920e+09</td>\n",
       "      <td>Washington</td>\n",
       "      <td>[38.9007, -77.043098]</td>\n",
       "      <td>NaN</td>\n",
       "      <td>NaN</td>\n",
       "    </tr>\n",
       "    <tr>\n",
       "      <th>3</th>\n",
       "      <td>Mozilla/5.0 (Macintosh; Intel Mac OS X 10_6_8)...</td>\n",
       "      <td>BR</td>\n",
       "      <td>0.0</td>\n",
       "      <td>America/Sao_Paulo</td>\n",
       "      <td>27</td>\n",
       "      <td>zCaLwp</td>\n",
       "      <td>zUtuOu</td>\n",
       "      <td>alelex88</td>\n",
       "      <td>pt-br</td>\n",
       "      <td>1.usa.gov</td>\n",
       "      <td>direct</td>\n",
       "      <td>http://apod.nasa.gov/apod/ap120312.html</td>\n",
       "      <td>1.331923e+09</td>\n",
       "      <td>1.331923e+09</td>\n",
       "      <td>Braz</td>\n",
       "      <td>[-23.549999, -46.616699]</td>\n",
       "      <td>NaN</td>\n",
       "      <td>NaN</td>\n",
       "    </tr>\n",
       "    <tr>\n",
       "      <th>4</th>\n",
       "      <td>Mozilla/5.0 (Windows NT 6.1; WOW64) AppleWebKi...</td>\n",
       "      <td>US</td>\n",
       "      <td>0.0</td>\n",
       "      <td>America/New_York</td>\n",
       "      <td>MA</td>\n",
       "      <td>9b6kNl</td>\n",
       "      <td>9b6kNl</td>\n",
       "      <td>bitly</td>\n",
       "      <td>en-US,en;q=0.8</td>\n",
       "      <td>bit.ly</td>\n",
       "      <td>http://www.shrewsbury-ma.gov/selco/</td>\n",
       "      <td>http://www.shrewsbury-ma.gov/egov/gallery/1341...</td>\n",
       "      <td>1.331923e+09</td>\n",
       "      <td>1.273672e+09</td>\n",
       "      <td>Shrewsbury</td>\n",
       "      <td>[42.286499, -71.714699]</td>\n",
       "      <td>NaN</td>\n",
       "      <td>NaN</td>\n",
       "    </tr>\n",
       "  </tbody>\n",
       "</table>\n",
       "</div>"
      ],
      "text/plain": [
       "                                                   a   c   nk  \\\n",
       "0  Mozilla/5.0 (Windows NT 6.1; WOW64) AppleWebKi...  US  1.0   \n",
       "1                             GoogleMaps/RochesterNY  US  0.0   \n",
       "2  Mozilla/4.0 (compatible; MSIE 8.0; Windows NT ...  US  1.0   \n",
       "3  Mozilla/5.0 (Macintosh; Intel Mac OS X 10_6_8)...  BR  0.0   \n",
       "4  Mozilla/5.0 (Windows NT 6.1; WOW64) AppleWebKi...  US  0.0   \n",
       "\n",
       "                  tz  gr       g       h         l              al         hh  \\\n",
       "0   America/New_York  MA  A6qOVH  wfLQtf   orofrog  en-US,en;q=0.8  1.usa.gov   \n",
       "1     America/Denver  UT  mwszkS  mwszkS     bitly             NaN       j.mp   \n",
       "2   America/New_York  DC  xxr3Qb  xxr3Qb     bitly           en-US  1.usa.gov   \n",
       "3  America/Sao_Paulo  27  zCaLwp  zUtuOu  alelex88           pt-br  1.usa.gov   \n",
       "4   America/New_York  MA  9b6kNl  9b6kNl     bitly  en-US,en;q=0.8     bit.ly   \n",
       "\n",
       "                                                   r  \\\n",
       "0  http://www.facebook.com/l/7AQEFzjSi/1.usa.gov/...   \n",
       "1                           http://www.AwareMap.com/   \n",
       "2                               http://t.co/03elZC4Q   \n",
       "3                                             direct   \n",
       "4                http://www.shrewsbury-ma.gov/selco/   \n",
       "\n",
       "                                                   u             t  \\\n",
       "0        http://www.ncbi.nlm.nih.gov/pubmed/22415991  1.331923e+09   \n",
       "1        http://www.monroecounty.gov/etc/911/rss.php  1.331923e+09   \n",
       "2  http://boxer.senate.gov/en/press/releases/0316...  1.331923e+09   \n",
       "3            http://apod.nasa.gov/apod/ap120312.html  1.331923e+09   \n",
       "4  http://www.shrewsbury-ma.gov/egov/gallery/1341...  1.331923e+09   \n",
       "\n",
       "             hc          cy                        ll  _heartbeat_   kw  \n",
       "0  1.331823e+09     Danvers   [42.576698, -70.954903]          NaN  NaN  \n",
       "1  1.308262e+09       Provo  [40.218102, -111.613297]          NaN  NaN  \n",
       "2  1.331920e+09  Washington     [38.9007, -77.043098]          NaN  NaN  \n",
       "3  1.331923e+09        Braz  [-23.549999, -46.616699]          NaN  NaN  \n",
       "4  1.273672e+09  Shrewsbury   [42.286499, -71.714699]          NaN  NaN  "
      ]
     },
     "execution_count": 9,
     "metadata": {},
     "output_type": "execute_result"
    }
   ],
   "source": [
    "# Let's convert this list of dictionaries into a DataFrame because it is easier to work with DataFrames in pandas than with lists of dictionaries.\n",
    "# Method: classmethod DataFrame.from_dict(data, orient='columns', dtype=None, columns=None)\n",
    "# The “orientation” of the data. \n",
    "# If the keys of the passed dict should be the columns of the resulting DataFrame, pass ‘columns’ (default). Otherwise if the keys should be rows, pass ‘index’.\n",
    "\n",
    "df = pd.DataFrame.from_dict(records, orient='columns')\n",
    "df.head(5) "
   ]
  },
  {
   "cell_type": "markdown",
   "metadata": {},
   "source": [
    "### Q1.1,   How many records are in the Dataframe? (In Camino, pick the right number)"
   ]
  },
  {
   "cell_type": "code",
   "execution_count": 10,
   "metadata": {},
   "outputs": [
    {
     "data": {
      "text/plain": [
       "3560"
      ]
     },
     "execution_count": 10,
     "metadata": {},
     "output_type": "execute_result"
    }
   ],
   "source": [
    "df.shape[0]"
   ]
  },
  {
   "cell_type": "markdown",
   "metadata": {},
   "source": [
    "### Q1.2,   In column city('cy'), how many records are NaN? (In Camino, pick the right number)"
   ]
  },
  {
   "cell_type": "code",
   "execution_count": 11,
   "metadata": {},
   "outputs": [
    {
     "data": {
      "text/plain": [
       "641"
      ]
     },
     "execution_count": 11,
     "metadata": {},
     "output_type": "execute_result"
    }
   ],
   "source": [
    "df['cy'].isna().sum()"
   ]
  },
  {
   "cell_type": "markdown",
   "metadata": {},
   "source": [
    "### Q1.3,   Excluding NaN, how many different countries does this dataset include?  (In Camino, pick the right number)"
   ]
  },
  {
   "cell_type": "code",
   "execution_count": 12,
   "metadata": {},
   "outputs": [
    {
     "data": {
      "text/plain": [
       "71"
      ]
     },
     "execution_count": 12,
     "metadata": {},
     "output_type": "execute_result"
    }
   ],
   "source": [
    "df['c'].nunique() # counts the unique values in the column 'c', automatically excluding any NaN values"
   ]
  },
  {
   "cell_type": "markdown",
   "metadata": {},
   "source": [
    "### Q1.4, Outside of the US, what are the top 5 cities using the Bitly service? (In Camino, choose the city name with the most usage (most records))"
   ]
  },
  {
   "cell_type": "code",
   "execution_count": 13,
   "metadata": {},
   "outputs": [
    {
     "data": {
      "text/plain": [
       "Nogata    29\n",
       "London    16\n",
       "Madrid    13\n",
       "Mexico    12\n",
       "SPaulo    11\n",
       "Name: cy, dtype: int64"
      ]
     },
     "execution_count": 13,
     "metadata": {},
     "output_type": "execute_result"
    }
   ],
   "source": [
    "filterOutsideUS = df[df['c'] != 'US']\n",
    "# value_counts() returns a Series containing counts of unique values for each city \n",
    "filterOutsideUS['cy'].value_counts().nlargest()"
   ]
  },
  {
   "cell_type": "markdown",
   "metadata": {},
   "source": [
    "## Q2"
   ]
  },
  {
   "cell_type": "markdown",
   "metadata": {},
   "source": [
    "### Q2.1, How many records are from Russia?  (In Camino, pick the right number)"
   ]
  },
  {
   "cell_type": "code",
   "execution_count": 14,
   "metadata": {},
   "outputs": [
    {
     "data": {
      "text/plain": [
       "13"
      ]
     },
     "execution_count": 14,
     "metadata": {},
     "output_type": "execute_result"
    }
   ],
   "source": [
    "# Short form for Russia = 'Ru'\n",
    "df[df['c'] == 'RU'].shape[0]"
   ]
  },
  {
   "cell_type": "markdown",
   "metadata": {},
   "source": [
    "### Q2.2, In the records from Russia, which city has the highest usage count?  (In Camino, pick the right city name)"
   ]
  },
  {
   "cell_type": "code",
   "execution_count": 15,
   "metadata": {},
   "outputs": [
    {
     "data": {
      "text/plain": [
       "'Moscow'"
      ]
     },
     "execution_count": 15,
     "metadata": {},
     "output_type": "execute_result"
    }
   ],
   "source": [
    "filterForRussia = df[df['c'] == 'RU']\n",
    "filterForRussia['cy'].value_counts().index[0]"
   ]
  },
  {
   "cell_type": "markdown",
   "metadata": {},
   "source": [
    "### Q2.3, In records from Russia, how many access cia.gov?  (In Camino, pick the right number) "
   ]
  },
  {
   "cell_type": "code",
   "execution_count": 16,
   "metadata": {},
   "outputs": [
    {
     "data": {
      "text/plain": [
       "2"
      ]
     },
     "execution_count": 16,
     "metadata": {},
     "output_type": "execute_result"
    }
   ],
   "source": [
    "accessThisPage = filterForRussia[filterForRussia['u'].str.contains('cia.gov')]\n",
    "len(accessThisPage)"
   ]
  },
  {
   "cell_type": "markdown",
   "metadata": {},
   "source": [
    "## Q3 Let us further explore the time zones in this data set (the **tz** field). "
   ]
  },
  {
   "cell_type": "markdown",
   "metadata": {},
   "source": [
    "### Q3.1, Let's clean the tz field. If it is NaN, fill it with 'Missing'. If it is empty (i.e., \"\"), fill it with 'Unknown'. After these steps, how many records are 'Missing' and how many are in 'Unknown'?  (In Camino, fill in these two numbers in the format of 'Missing'/'Unknown'. Don't leave any spaces in the answer.)"
   ]
  },
  {
   "cell_type": "code",
   "execution_count": 17,
   "metadata": {},
   "outputs": [
    {
     "data": {
      "text/plain": [
       "120"
      ]
     },
     "execution_count": 17,
     "metadata": {},
     "output_type": "execute_result"
    },
    {
     "data": {
      "text/plain": [
       "521"
      ]
     },
     "execution_count": 17,
     "metadata": {},
     "output_type": "execute_result"
    }
   ],
   "source": [
    "# Just creating a copy to keep original DataFrame intact\n",
    "df1 = df.copy()\n",
    "# Step 1: Check tz field for NaN and Fill with 'Missing'\n",
    "df1['tz'] = df1['tz'].fillna('Missing')\n",
    "# Step 2: Check tz field for empty and replace with 'Unknown'\n",
    "df1['tz'] = df1['tz'].replace('', 'Unknown')\n",
    "len(df1[(df1['tz'] == 'Missing')]) # Records that are 'Missing'\n",
    "len(df1[(df1['tz'] == 'Unknown')]) # Records that are 'Unknown'"
   ]
  },
  {
   "cell_type": "markdown",
   "metadata": {},
   "source": [
    "### Q3.2, What are the top 10 timezones (e.g., most frequently occuring timezones in the records) in this data set? Exclude Unknown and Missing. (In Camino, pick the 10th place timezone)"
   ]
  },
  {
   "cell_type": "code",
   "execution_count": 18,
   "metadata": {},
   "outputs": [
    {
     "data": {
      "text/plain": [
       "America/New_York       1251\n",
       "America/Chicago         400\n",
       "America/Los_Angeles     382\n",
       "America/Denver          191\n",
       "Europe/London            74\n",
       "Asia/Tokyo               37\n",
       "Pacific/Honolulu         36\n",
       "Europe/Madrid            35\n",
       "America/Sao_Paulo        33\n",
       "Europe/Berlin            28\n",
       "Name: tz, dtype: int64"
      ]
     },
     "execution_count": 18,
     "metadata": {},
     "output_type": "execute_result"
    }
   ],
   "source": [
    "filterToExclude = df1[(df1['tz'] != 'Unknown') & (df1['tz'] != 'Missing')]\n",
    "filterToExclude['tz'].value_counts().nlargest(10)"
   ]
  },
  {
   "cell_type": "markdown",
   "metadata": {},
   "source": [
    "### Q3.3 Use Seaborn to make a horizontal bar plot based on the previous question. (Use tz as Y-axis).  (In Camino, select the cities in the first 3 timezones, multiple choices)"
   ]
  },
  {
   "cell_type": "code",
   "execution_count": 22,
   "metadata": {},
   "outputs": [
    {
     "data": {
      "text/plain": [
       "<Axes: xlabel='count', ylabel='tz'>"
      ]
     },
     "execution_count": 22,
     "metadata": {},
     "output_type": "execute_result"
    },
    {
     "data": {
      "image/png": "[encoded data removed]",
      "text/plain": [
       "<Figure size 640x480 with 1 Axes>"
      ]
     },
     "metadata": {},
     "output_type": "display_data"
    }
   ],
   "source": [
    "# countplot() is used to show the counts of observations in each categorical bin using bars.\n",
    "sns.countplot(y = 'tz', data = filterToExclude, order = filterToExclude['tz'].value_counts().nlargest(10).index)"
   ]
  },
  {
   "cell_type": "markdown",
   "metadata": {},
   "source": [
    "### Q3.4, Based on the 'c' field (Country), count how many records are from the United States (US). Then, based on the 'America' keyword on the 'tz' field, count how many records are from America. (In Camino, fill in the two numbers in the format of count_by_c/count_by_tz. Don't leave any spaces in the answer.)\n",
    "\n",
    "*Hint*: Use https://pandas.pydata.org/docs/reference/api/pandas.Series.str.contains.html"
   ]
  },
  {
   "cell_type": "code",
   "execution_count": 177,
   "metadata": {},
   "outputs": [
    {
     "data": {
      "text/plain": [
       "2305"
      ]
     },
     "execution_count": 177,
     "metadata": {},
     "output_type": "execute_result"
    }
   ],
   "source": [
    "count_by_c = len(df1[df1['c'] == 'US'])\n",
    "count_by_c "
   ]
  },
  {
   "cell_type": "code",
   "execution_count": 178,
   "metadata": {},
   "outputs": [
    {
     "data": {
      "text/plain": [
       "2412"
      ]
     },
     "execution_count": 178,
     "metadata": {},
     "output_type": "execute_result"
    }
   ],
   "source": [
    "# Using df1 because we have cleaned the 'tz' field, so don't have to worry about na = False in the contains() method. \n",
    "count_by_tz = len(df1[df1['tz'].str.contains('America')]) \n",
    "count_by_tz"
   ]
  },
  {
   "cell_type": "markdown",
   "metadata": {},
   "source": [
    "### Q3.5,  Based on Q3.4, are both counts identical? If not, find out how many records have a timezone with 'America' but the Country is not United States. (In Camino, select the correct number)"
   ]
  },
  {
   "cell_type": "code",
   "execution_count": 23,
   "metadata": {},
   "outputs": [
    {
     "data": {
      "text/plain": [
       "143"
      ]
     },
     "execution_count": 23,
     "metadata": {},
     "output_type": "execute_result"
    }
   ],
   "source": [
    "# Are both counts identical? - No\n",
    "len(df1[(df1['c'] != 'US') & (df1['tz'].str.contains('America'))])"
   ]
  }
 ],
 "metadata": {
  "kernelspec": {
   "display_name": "Python 3 (ipykernel)",
   "language": "python",
   "name": "python3"
  },
  "language_info": {
   "codemirror_mode": {
    "name": "ipython",
    "version": 3
   },
   "file_extension": ".py",
   "mimetype": "text/x-python",
   "name": "python",
   "nbconvert_exporter": "python",
   "pygments_lexer": "ipython3",
   "version": "3.10.9"
  },
  "toc": {
   "base_numbering": 1,
   "nav_menu": {},
   "number_sections": true,
   "sideBar": true,
   "skip_h1_title": true,
   "title_cell": "Table of Contents",
   "title_sidebar": "Contents",
   "toc_cell": true,
   "toc_position": {
    "height": "calc(100% - 180px)",
    "left": "10px",
    "top": "150px",
    "width": "165px"
   },
   "toc_section_display": true,
   "toc_window_display": false
  }
 },
 "nbformat": 4,
 "nbformat_minor": 1
}
