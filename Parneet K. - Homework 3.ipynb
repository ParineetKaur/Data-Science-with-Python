{
 "cells": [
  {
   "cell_type": "markdown",
   "metadata": {},
   "source": [
    "**Table of contents**<a id='toc0_'></a>    \n",
    "- 1. [Question 1: NVDA](#toc1_)    \n",
    "  - 1.1. [ When is the first date that NVDA closes at more than 135 dollars? (pick the closest date in Camino)](#toc1_1_)    \n",
    "  - 1.2. [After the NVDA closing stock price hits 135 dollars, how many trading days did it take for NVDA reach the historical high? (pick the closest number of days in Camino)](#toc1_2_)    \n",
    "  - 1.3. [Report the correlation matrix between NVDA, TSM, and AMD's closing prices. Which pair of stocks are most correlated with each other?](#toc1_3_)    \n",
    "  - 1.4. [Suppose I apply the following transformation to adjust the original wide dataset. What structure of the dataset is now? What does each row of data represent?](#toc1_4_)    \n",
    "- 2. [Question 2: TSM](#toc2_)    \n",
    "  - 2.1. [Find the top 5 largest one-day % gain (in % compared to the closing cost of the previous trading day). Make sure that your output is a Series object that shows both date and the % gain. (pick the date closest to the day with the largest gain ratio in Camino)](#toc2_1_)    \n",
    "- 3. [Question 3: AMD](#toc3_)    \n",
    "  - 3.1. [ Consider the following investment strategy for AMD: buy at the end of day 1, sell on the end of day 3.  Based on this strategy, what is the highest dollar amount you would lose in one trade?  Also report the buying and selling date for that particular trade. (pick the closest dollar amount it dropped in Camino)](#toc3_1_)    \n",
    "- 4. [Question 4: Stock Movements in NVDA](#toc4_)    \n",
    "  - 4.1. [In which days did we observe that the price increased more than 60% within the 9 preceding trading sessions? Report your result as a Series (d,gain) where *d* is the trading session date when the increase was observed and *gain* is the maximum percentage gain (%) observed over the 9 preceding trading session (today compared with previous 9 trading days).](#toc4_1_)    \n",
    "- 5. [Question 5: NVDA](#toc5_)    \n",
    "  - 5.1. [What was the **worst** possible \"buy&sell\" operation? Find the two days x and y so that the % loss resulting from buying in x and selling in y (with y after x) is maximized. Your code should work for any data.](#toc5_1_)    \n",
    "  - 5.2. [Use cummax()](#toc5_2_)    \n",
    "  - 5.3. [Use cummin()](#toc5_3_)    \n",
    "\n",
    "<!-- vscode-jupyter-toc-config\n",
    "\tnumbering=true\n",
    "\tanchor=true\n",
    "\tflat=false\n",
    "\tminLevel=2\n",
    "\tmaxLevel=6\n",
    "\t/vscode-jupyter-toc-config -->\n",
    "<!-- THIS CELL WILL BE REPLACED ON TOC UPDATE. DO NOT WRITE YOUR TEXT IN THIS CELL -->"
   ]
  },
  {
   "cell_type": "markdown",
   "metadata": {},
   "source": [
    "# Homework 3"
   ]
  },
  {
   "cell_type": "code",
   "execution_count": 127,
   "metadata": {},
   "outputs": [],
   "source": [
    "# print all the outputs in a cell\n",
    "from IPython.core.interactiveshell import InteractiveShell\n",
    "InteractiveShell.ast_node_interactivity = \"all\""
   ]
  },
  {
   "cell_type": "markdown",
   "metadata": {},
   "source": [
    "<b>Instructions:</b> Write your answers in the empty code cells below."
   ]
  },
  {
   "cell_type": "markdown",
   "metadata": {},
   "source": [
    "<b>Penalties:</b> You will incur penalties if:\n",
    "<ul>\n",
    "<li>Your code is wrong</li>\n",
    "<li>Your code does not work on different data</li>\n",
    "<li>You use for loops (unless explicitly permitted)</li>\n",
    "</ul>"
   ]
  },
  {
   "cell_type": "markdown",
   "metadata": {},
   "source": [
    "# Data Loading"
   ]
  },
  {
   "cell_type": "markdown",
   "metadata": {},
   "source": [
    "Note that this dataset was extracted using ```yfinance``` and contains information about 3 stocks in a wide format (one row = 1 trading day, stock information on the columns)."
   ]
  },
  {
   "cell_type": "code",
   "execution_count": 128,
   "metadata": {},
   "outputs": [
    {
     "name": "stdout",
     "output_type": "stream",
     "text": [
      "Requirement already satisfied: yfinance in /opt/anaconda3/lib/python3.12/site-packages (0.2.44)\n",
      "Requirement already satisfied: pandas>=1.3.0 in /opt/anaconda3/lib/python3.12/site-packages (from yfinance) (2.2.2)\n",
      "Requirement already satisfied: numpy>=1.16.5 in /opt/anaconda3/lib/python3.12/site-packages (from yfinance) (1.26.4)\n",
      "Requirement already satisfied: requests>=2.31 in /opt/anaconda3/lib/python3.12/site-packages (from yfinance) (2.32.2)\n",
      "Requirement already satisfied: multitasking>=0.0.7 in /opt/anaconda3/lib/python3.12/site-packages (from yfinance) (0.0.9)\n",
      "Requirement already satisfied: lxml>=4.9.1 in /opt/anaconda3/lib/python3.12/site-packages (from yfinance) (5.2.1)\n",
      "Requirement already satisfied: platformdirs>=2.0.0 in /opt/anaconda3/lib/python3.12/site-packages (from yfinance) (3.10.0)\n",
      "Requirement already satisfied: pytz>=2022.5 in /opt/anaconda3/lib/python3.12/site-packages (from yfinance) (2024.1)\n",
      "Requirement already satisfied: frozendict>=2.3.4 in /opt/anaconda3/lib/python3.12/site-packages (from yfinance) (2.4.2)\n",
      "Requirement already satisfied: peewee>=3.16.2 in /opt/anaconda3/lib/python3.12/site-packages (from yfinance) (3.17.6)\n",
      "Requirement already satisfied: beautifulsoup4>=4.11.1 in /opt/anaconda3/lib/python3.12/site-packages (from yfinance) (4.12.3)\n",
      "Requirement already satisfied: html5lib>=1.1 in /opt/anaconda3/lib/python3.12/site-packages (from yfinance) (1.1)\n",
      "Requirement already satisfied: soupsieve>1.2 in /opt/anaconda3/lib/python3.12/site-packages (from beautifulsoup4>=4.11.1->yfinance) (2.5)\n",
      "Requirement already satisfied: six>=1.9 in /opt/anaconda3/lib/python3.12/site-packages (from html5lib>=1.1->yfinance) (1.16.0)\n",
      "Requirement already satisfied: webencodings in /opt/anaconda3/lib/python3.12/site-packages (from html5lib>=1.1->yfinance) (0.5.1)\n",
      "Requirement already satisfied: python-dateutil>=2.8.2 in /opt/anaconda3/lib/python3.12/site-packages (from pandas>=1.3.0->yfinance) (2.9.0.post0)\n",
      "Requirement already satisfied: tzdata>=2022.7 in /opt/anaconda3/lib/python3.12/site-packages (from pandas>=1.3.0->yfinance) (2023.3)\n",
      "Requirement already satisfied: charset-normalizer<4,>=2 in /opt/anaconda3/lib/python3.12/site-packages (from requests>=2.31->yfinance) (2.0.4)\n",
      "Requirement already satisfied: idna<4,>=2.5 in /opt/anaconda3/lib/python3.12/site-packages (from requests>=2.31->yfinance) (3.7)\n",
      "Requirement already satisfied: urllib3<3,>=1.21.1 in /opt/anaconda3/lib/python3.12/site-packages (from requests>=2.31->yfinance) (2.2.2)\n",
      "Requirement already satisfied: certifi>=2017.4.17 in /opt/anaconda3/lib/python3.12/site-packages (from requests>=2.31->yfinance) (2024.8.30)\n"
     ]
    }
   ],
   "source": [
    "!pip install yfinance"
   ]
  },
  {
   "cell_type": "code",
   "execution_count": 129,
   "metadata": {},
   "outputs": [
    {
     "name": "stdout",
     "output_type": "stream",
     "text": [
      "Requirement already satisfied: yfinance in /Users/parneetkaur/Desktop/Personal/anaconda3/lib/python3.10/site-packages (0.2.48)\n",
      "Requirement already satisfied: platformdirs>=2.0.0 in /Users/parneetkaur/Desktop/Personal/anaconda3/lib/python3.10/site-packages (from yfinance) (2.5.2)\n",
      "Requirement already satisfied: html5lib>=1.1 in /Users/parneetkaur/Desktop/Personal/anaconda3/lib/python3.10/site-packages (from yfinance) (1.1)\n",
      "Requirement already satisfied: peewee>=3.16.2 in /Users/parneetkaur/Desktop/Personal/anaconda3/lib/python3.10/site-packages (from yfinance) (3.17.7)\n",
      "Requirement already satisfied: beautifulsoup4>=4.11.1 in /Users/parneetkaur/Desktop/Personal/anaconda3/lib/python3.10/site-packages (from yfinance) (4.11.1)\n",
      "Requirement already satisfied: numpy>=1.16.5 in /Users/parneetkaur/Desktop/Personal/anaconda3/lib/python3.10/site-packages (from yfinance) (1.23.5)\n",
      "Requirement already satisfied: pytz>=2022.5 in /Users/parneetkaur/Desktop/Personal/anaconda3/lib/python3.10/site-packages (from yfinance) (2022.7)\n",
      "Requirement already satisfied: pandas>=1.3.0 in /Users/parneetkaur/Desktop/Personal/anaconda3/lib/python3.10/site-packages (from yfinance) (1.5.3)\n",
      "Requirement already satisfied: lxml>=4.9.1 in /Users/parneetkaur/Desktop/Personal/anaconda3/lib/python3.10/site-packages (from yfinance) (4.9.1)\n",
      "Requirement already satisfied: requests>=2.31 in /Users/parneetkaur/Desktop/Personal/anaconda3/lib/python3.10/site-packages (from yfinance) (2.32.3)\n",
      "Requirement already satisfied: frozendict>=2.3.4 in /Users/parneetkaur/Desktop/Personal/anaconda3/lib/python3.10/site-packages (from yfinance) (2.4.6)\n",
      "Requirement already satisfied: multitasking>=0.0.7 in /Users/parneetkaur/Desktop/Personal/anaconda3/lib/python3.10/site-packages (from yfinance) (0.0.11)\n",
      "Requirement already satisfied: soupsieve>1.2 in /Users/parneetkaur/Desktop/Personal/anaconda3/lib/python3.10/site-packages (from beautifulsoup4>=4.11.1->yfinance) (2.3.2.post1)\n",
      "Requirement already satisfied: webencodings in /Users/parneetkaur/Desktop/Personal/anaconda3/lib/python3.10/site-packages (from html5lib>=1.1->yfinance) (0.5.1)\n",
      "Requirement already satisfied: six>=1.9 in /Users/parneetkaur/Desktop/Personal/anaconda3/lib/python3.10/site-packages (from html5lib>=1.1->yfinance) (1.16.0)\n",
      "Requirement already satisfied: python-dateutil>=2.8.1 in /Users/parneetkaur/Desktop/Personal/anaconda3/lib/python3.10/site-packages (from pandas>=1.3.0->yfinance) (2.8.2)\n",
      "Requirement already satisfied: urllib3<3,>=1.21.1 in /Users/parneetkaur/Desktop/Personal/anaconda3/lib/python3.10/site-packages (from requests>=2.31->yfinance) (1.26.14)\n",
      "Requirement already satisfied: idna<4,>=2.5 in /Users/parneetkaur/Desktop/Personal/anaconda3/lib/python3.10/site-packages (from requests>=2.31->yfinance) (3.4)\n",
      "Requirement already satisfied: charset-normalizer<4,>=2 in /Users/parneetkaur/Desktop/Personal/anaconda3/lib/python3.10/site-packages (from requests>=2.31->yfinance) (2.0.4)\n",
      "Requirement already satisfied: certifi>=2017.4.17 in /Users/parneetkaur/Desktop/Personal/anaconda3/lib/python3.10/site-packages (from requests>=2.31->yfinance) (2023.5.7)\n"
     ]
    }
   ],
   "source": [
    "import sys\n",
    "!{sys.executable} -m pip install yfinance"
   ]
  },
  {
   "cell_type": "code",
   "execution_count": 130,
   "metadata": {},
   "outputs": [],
   "source": [
    "import yfinance as yf\n",
    "import pandas as pd\n",
    "import matplotlib.pyplot as plt\n",
    "\n",
    "data = pd.read_csv(\"hw3_stock_data.csv\", index_col = \"Date\", parse_dates= True)"
   ]
  },
  {
   "cell_type": "code",
   "execution_count": 131,
   "metadata": {},
   "outputs": [],
   "source": [
    "#Set to 2 decimal places, and display all columns (and up to 300 rows)\n",
    "pd.set_option('display.float_format', lambda x: '%.2f' % x)\n",
    "pd.set_option('display.max_columns', None)\n",
    "#pd.set_option('display.max_rows', 300)"
   ]
  },
  {
   "cell_type": "code",
   "execution_count": 132,
   "metadata": {},
   "outputs": [
    {
     "data": {
      "text/html": [
       "<div>\n",
       "<style scoped>\n",
       "    .dataframe tbody tr th:only-of-type {\n",
       "        vertical-align: middle;\n",
       "    }\n",
       "\n",
       "    .dataframe tbody tr th {\n",
       "        vertical-align: top;\n",
       "    }\n",
       "\n",
       "    .dataframe thead th {\n",
       "        text-align: right;\n",
       "    }\n",
       "</style>\n",
       "<table border=\"1\" class=\"dataframe\">\n",
       "  <thead>\n",
       "    <tr style=\"text-align: right;\">\n",
       "      <th></th>\n",
       "      <th>Adj Close_AMD</th>\n",
       "      <th>Adj Close_NVDA</th>\n",
       "      <th>Adj Close_TSM</th>\n",
       "      <th>Close_AMD</th>\n",
       "      <th>Close_NVDA</th>\n",
       "      <th>Close_TSM</th>\n",
       "      <th>High_AMD</th>\n",
       "      <th>High_NVDA</th>\n",
       "      <th>High_TSM</th>\n",
       "      <th>Low_AMD</th>\n",
       "      <th>Low_NVDA</th>\n",
       "      <th>Low_TSM</th>\n",
       "      <th>Open_AMD</th>\n",
       "      <th>Open_NVDA</th>\n",
       "      <th>Open_TSM</th>\n",
       "      <th>Volume_AMD</th>\n",
       "      <th>Volume_NVDA</th>\n",
       "      <th>Volume_TSM</th>\n",
       "    </tr>\n",
       "  </thead>\n",
       "  <tbody>\n",
       "    <tr>\n",
       "      <th>count</th>\n",
       "      <td>11239.00</td>\n",
       "      <td>6474.00</td>\n",
       "      <td>6797.00</td>\n",
       "      <td>11239.00</td>\n",
       "      <td>6474.00</td>\n",
       "      <td>6797.00</td>\n",
       "      <td>11239.00</td>\n",
       "      <td>6474.00</td>\n",
       "      <td>6797.00</td>\n",
       "      <td>11239.00</td>\n",
       "      <td>6474.00</td>\n",
       "      <td>6797.00</td>\n",
       "      <td>11239.00</td>\n",
       "      <td>6474.00</td>\n",
       "      <td>6797.00</td>\n",
       "      <td>11239.00</td>\n",
       "      <td>6474.00</td>\n",
       "      <td>6797.00</td>\n",
       "    </tr>\n",
       "    <tr>\n",
       "      <th>mean</th>\n",
       "      <td>20.73</td>\n",
       "      <td>7.10</td>\n",
       "      <td>26.98</td>\n",
       "      <td>20.73</td>\n",
       "      <td>7.13</td>\n",
       "      <td>31.45</td>\n",
       "      <td>21.17</td>\n",
       "      <td>7.26</td>\n",
       "      <td>31.83</td>\n",
       "      <td>20.29</td>\n",
       "      <td>6.98</td>\n",
       "      <td>31.08</td>\n",
       "      <td>20.45</td>\n",
       "      <td>7.12</td>\n",
       "      <td>31.47</td>\n",
       "      <td>19591836.72</td>\n",
       "      <td>603807949.61</td>\n",
       "      <td>9808582.46</td>\n",
       "    </tr>\n",
       "    <tr>\n",
       "      <th>std</th>\n",
       "      <td>31.38</td>\n",
       "      <td>19.00</td>\n",
       "      <td>37.05</td>\n",
       "      <td>31.38</td>\n",
       "      <td>18.99</td>\n",
       "      <td>36.93</td>\n",
       "      <td>32.01</td>\n",
       "      <td>19.36</td>\n",
       "      <td>37.41</td>\n",
       "      <td>30.73</td>\n",
       "      <td>18.59</td>\n",
       "      <td>36.46</td>\n",
       "      <td>31.57</td>\n",
       "      <td>18.99</td>\n",
       "      <td>36.97</td>\n",
       "      <td>28787575.77</td>\n",
       "      <td>431367233.11</td>\n",
       "      <td>6284387.00</td>\n",
       "    </tr>\n",
       "    <tr>\n",
       "      <th>min</th>\n",
       "      <td>1.62</td>\n",
       "      <td>0.03</td>\n",
       "      <td>1.56</td>\n",
       "      <td>1.62</td>\n",
       "      <td>0.03</td>\n",
       "      <td>3.08</td>\n",
       "      <td>1.69</td>\n",
       "      <td>0.04</td>\n",
       "      <td>3.16</td>\n",
       "      <td>1.61</td>\n",
       "      <td>0.03</td>\n",
       "      <td>2.84</td>\n",
       "      <td>0.00</td>\n",
       "      <td>0.03</td>\n",
       "      <td>3.03</td>\n",
       "      <td>0.00</td>\n",
       "      <td>19680000.00</td>\n",
       "      <td>160282.00</td>\n",
       "    </tr>\n",
       "    <tr>\n",
       "      <th>25%</th>\n",
       "      <td>5.44</td>\n",
       "      <td>0.26</td>\n",
       "      <td>5.05</td>\n",
       "      <td>5.44</td>\n",
       "      <td>0.28</td>\n",
       "      <td>9.48</td>\n",
       "      <td>5.58</td>\n",
       "      <td>0.29</td>\n",
       "      <td>9.62</td>\n",
       "      <td>5.31</td>\n",
       "      <td>0.27</td>\n",
       "      <td>9.34</td>\n",
       "      <td>5.12</td>\n",
       "      <td>0.28</td>\n",
       "      <td>9.49</td>\n",
       "      <td>1301700.00</td>\n",
       "      <td>343431000.00</td>\n",
       "      <td>5737000.00</td>\n",
       "    </tr>\n",
       "    <tr>\n",
       "      <th>50%</th>\n",
       "      <td>10.19</td>\n",
       "      <td>0.43</td>\n",
       "      <td>8.90</td>\n",
       "      <td>10.19</td>\n",
       "      <td>0.46</td>\n",
       "      <td>13.70</td>\n",
       "      <td>10.38</td>\n",
       "      <td>0.47</td>\n",
       "      <td>13.88</td>\n",
       "      <td>9.96</td>\n",
       "      <td>0.45</td>\n",
       "      <td>13.58</td>\n",
       "      <td>10.19</td>\n",
       "      <td>0.46</td>\n",
       "      <td>13.72</td>\n",
       "      <td>7459400.00</td>\n",
       "      <td>504860500.00</td>\n",
       "      <td>8629100.00</td>\n",
       "    </tr>\n",
       "    <tr>\n",
       "      <th>75%</th>\n",
       "      <td>16.94</td>\n",
       "      <td>4.30</td>\n",
       "      <td>32.30</td>\n",
       "      <td>16.94</td>\n",
       "      <td>4.32</td>\n",
       "      <td>37.84</td>\n",
       "      <td>17.25</td>\n",
       "      <td>4.40</td>\n",
       "      <td>38.12</td>\n",
       "      <td>16.62</td>\n",
       "      <td>4.28</td>\n",
       "      <td>37.49</td>\n",
       "      <td>16.94</td>\n",
       "      <td>4.32</td>\n",
       "      <td>37.85</td>\n",
       "      <td>25397150.00</td>\n",
       "      <td>734866500.00</td>\n",
       "      <td>12516270.00</td>\n",
       "    </tr>\n",
       "    <tr>\n",
       "      <th>max</th>\n",
       "      <td>211.38</td>\n",
       "      <td>138.07</td>\n",
       "      <td>192.21</td>\n",
       "      <td>211.38</td>\n",
       "      <td>138.07</td>\n",
       "      <td>192.21</td>\n",
       "      <td>227.30</td>\n",
       "      <td>140.76</td>\n",
       "      <td>194.25</td>\n",
       "      <td>208.22</td>\n",
       "      <td>136.30</td>\n",
       "      <td>190.50</td>\n",
       "      <td>213.41</td>\n",
       "      <td>139.80</td>\n",
       "      <td>193.09</td>\n",
       "      <td>325058400.00</td>\n",
       "      <td>9230856000.00</td>\n",
       "      <td>60793200.00</td>\n",
       "    </tr>\n",
       "  </tbody>\n",
       "</table>\n",
       "</div>"
      ],
      "text/plain": [
       "       Adj Close_AMD  Adj Close_NVDA  Adj Close_TSM  Close_AMD  Close_NVDA  \\\n",
       "count       11239.00         6474.00        6797.00   11239.00     6474.00   \n",
       "mean           20.73            7.10          26.98      20.73        7.13   \n",
       "std            31.38           19.00          37.05      31.38       18.99   \n",
       "min             1.62            0.03           1.56       1.62        0.03   \n",
       "25%             5.44            0.26           5.05       5.44        0.28   \n",
       "50%            10.19            0.43           8.90      10.19        0.46   \n",
       "75%            16.94            4.30          32.30      16.94        4.32   \n",
       "max           211.38          138.07         192.21     211.38      138.07   \n",
       "\n",
       "       Close_TSM  High_AMD  High_NVDA  High_TSM  Low_AMD  Low_NVDA  Low_TSM  \\\n",
       "count    6797.00  11239.00    6474.00   6797.00 11239.00   6474.00  6797.00   \n",
       "mean       31.45     21.17       7.26     31.83    20.29      6.98    31.08   \n",
       "std        36.93     32.01      19.36     37.41    30.73     18.59    36.46   \n",
       "min         3.08      1.69       0.04      3.16     1.61      0.03     2.84   \n",
       "25%         9.48      5.58       0.29      9.62     5.31      0.27     9.34   \n",
       "50%        13.70     10.38       0.47     13.88     9.96      0.45    13.58   \n",
       "75%        37.84     17.25       4.40     38.12    16.62      4.28    37.49   \n",
       "max       192.21    227.30     140.76    194.25   208.22    136.30   190.50   \n",
       "\n",
       "       Open_AMD  Open_NVDA  Open_TSM   Volume_AMD   Volume_NVDA  Volume_TSM  \n",
       "count  11239.00    6474.00   6797.00     11239.00       6474.00     6797.00  \n",
       "mean      20.45       7.12     31.47  19591836.72  603807949.61  9808582.46  \n",
       "std       31.57      18.99     36.97  28787575.77  431367233.11  6284387.00  \n",
       "min        0.00       0.03      3.03         0.00   19680000.00   160282.00  \n",
       "25%        5.12       0.28      9.49   1301700.00  343431000.00  5737000.00  \n",
       "50%       10.19       0.46     13.72   7459400.00  504860500.00  8629100.00  \n",
       "75%       16.94       4.32     37.85  25397150.00  734866500.00 12516270.00  \n",
       "max      213.41     139.80    193.09 325058400.00 9230856000.00 60793200.00  "
      ]
     },
     "execution_count": 132,
     "metadata": {},
     "output_type": "execute_result"
    }
   ],
   "source": [
    "data.describe()"
   ]
  },
  {
   "cell_type": "code",
   "execution_count": 133,
   "metadata": {},
   "outputs": [
    {
     "data": {
      "text/plain": [
       "<Axes: xlabel='Date'>"
      ]
     },
     "execution_count": 133,
     "metadata": {},
     "output_type": "execute_result"
    },
    {
     "data": {
      "text/plain": [
       "<Axes: xlabel='Date'>"
      ]
     },
     "execution_count": 133,
     "metadata": {},
     "output_type": "execute_result"
    },
    {
     "data": {
      "text/plain": [
       "<Axes: xlabel='Date'>"
      ]
     },
     "execution_count": 133,
     "metadata": {},
     "output_type": "execute_result"
    },
    {
     "data": {
      "text/plain": [
       "<matplotlib.legend.Legend at 0x7fca83db9300>"
      ]
     },
     "execution_count": 133,
     "metadata": {},
     "output_type": "execute_result"
    },
    {
     "data": {
      "image/png": "[encoded data removed]",
      "text/plain": [
       "<Figure size 640x480 with 1 Axes>"
      ]
     },
     "metadata": {},
     "output_type": "display_data"
    }
   ],
   "source": [
    "data.Close_AMD.plot()\n",
    "data.Close_NVDA.plot()\n",
    "data.Close_TSM.plot()\n",
    "plt.legend(['AMD', 'NVDA', 'TSM'])"
   ]
  },
  {
   "cell_type": "code",
   "execution_count": 134,
   "metadata": {},
   "outputs": [
    {
     "data": {
      "text/html": [
       "<div>\n",
       "<style scoped>\n",
       "    .dataframe tbody tr th:only-of-type {\n",
       "        vertical-align: middle;\n",
       "    }\n",
       "\n",
       "    .dataframe tbody tr th {\n",
       "        vertical-align: top;\n",
       "    }\n",
       "\n",
       "    .dataframe thead th {\n",
       "        text-align: right;\n",
       "    }\n",
       "</style>\n",
       "<table border=\"1\" class=\"dataframe\">\n",
       "  <thead>\n",
       "    <tr style=\"text-align: right;\">\n",
       "      <th></th>\n",
       "      <th>Adj Close_AMD</th>\n",
       "      <th>Adj Close_NVDA</th>\n",
       "      <th>Adj Close_TSM</th>\n",
       "      <th>Close_AMD</th>\n",
       "      <th>Close_NVDA</th>\n",
       "      <th>Close_TSM</th>\n",
       "      <th>High_AMD</th>\n",
       "      <th>High_NVDA</th>\n",
       "      <th>High_TSM</th>\n",
       "      <th>Low_AMD</th>\n",
       "      <th>Low_NVDA</th>\n",
       "      <th>Low_TSM</th>\n",
       "      <th>Open_AMD</th>\n",
       "      <th>Open_NVDA</th>\n",
       "      <th>Open_TSM</th>\n",
       "      <th>Volume_AMD</th>\n",
       "      <th>Volume_NVDA</th>\n",
       "      <th>Volume_TSM</th>\n",
       "    </tr>\n",
       "    <tr>\n",
       "      <th>Date</th>\n",
       "      <th></th>\n",
       "      <th></th>\n",
       "      <th></th>\n",
       "      <th></th>\n",
       "      <th></th>\n",
       "      <th></th>\n",
       "      <th></th>\n",
       "      <th></th>\n",
       "      <th></th>\n",
       "      <th></th>\n",
       "      <th></th>\n",
       "      <th></th>\n",
       "      <th></th>\n",
       "      <th></th>\n",
       "      <th></th>\n",
       "      <th></th>\n",
       "      <th></th>\n",
       "      <th></th>\n",
       "    </tr>\n",
       "  </thead>\n",
       "  <tbody>\n",
       "    <tr>\n",
       "      <th>1980-03-17</th>\n",
       "      <td>3.15</td>\n",
       "      <td>NaN</td>\n",
       "      <td>NaN</td>\n",
       "      <td>3.15</td>\n",
       "      <td>NaN</td>\n",
       "      <td>NaN</td>\n",
       "      <td>3.30</td>\n",
       "      <td>NaN</td>\n",
       "      <td>NaN</td>\n",
       "      <td>3.12</td>\n",
       "      <td>NaN</td>\n",
       "      <td>NaN</td>\n",
       "      <td>0.00</td>\n",
       "      <td>NaN</td>\n",
       "      <td>NaN</td>\n",
       "      <td>219600</td>\n",
       "      <td>NaN</td>\n",
       "      <td>NaN</td>\n",
       "    </tr>\n",
       "    <tr>\n",
       "      <th>1980-03-18</th>\n",
       "      <td>3.03</td>\n",
       "      <td>NaN</td>\n",
       "      <td>NaN</td>\n",
       "      <td>3.03</td>\n",
       "      <td>NaN</td>\n",
       "      <td>NaN</td>\n",
       "      <td>3.12</td>\n",
       "      <td>NaN</td>\n",
       "      <td>NaN</td>\n",
       "      <td>2.94</td>\n",
       "      <td>NaN</td>\n",
       "      <td>NaN</td>\n",
       "      <td>0.00</td>\n",
       "      <td>NaN</td>\n",
       "      <td>NaN</td>\n",
       "      <td>727200</td>\n",
       "      <td>NaN</td>\n",
       "      <td>NaN</td>\n",
       "    </tr>\n",
       "    <tr>\n",
       "      <th>1980-03-19</th>\n",
       "      <td>3.04</td>\n",
       "      <td>NaN</td>\n",
       "      <td>NaN</td>\n",
       "      <td>3.04</td>\n",
       "      <td>NaN</td>\n",
       "      <td>NaN</td>\n",
       "      <td>3.08</td>\n",
       "      <td>NaN</td>\n",
       "      <td>NaN</td>\n",
       "      <td>3.02</td>\n",
       "      <td>NaN</td>\n",
       "      <td>NaN</td>\n",
       "      <td>0.00</td>\n",
       "      <td>NaN</td>\n",
       "      <td>NaN</td>\n",
       "      <td>295200</td>\n",
       "      <td>NaN</td>\n",
       "      <td>NaN</td>\n",
       "    </tr>\n",
       "    <tr>\n",
       "      <th>1980-03-20</th>\n",
       "      <td>3.01</td>\n",
       "      <td>NaN</td>\n",
       "      <td>NaN</td>\n",
       "      <td>3.01</td>\n",
       "      <td>NaN</td>\n",
       "      <td>NaN</td>\n",
       "      <td>3.06</td>\n",
       "      <td>NaN</td>\n",
       "      <td>NaN</td>\n",
       "      <td>3.01</td>\n",
       "      <td>NaN</td>\n",
       "      <td>NaN</td>\n",
       "      <td>0.00</td>\n",
       "      <td>NaN</td>\n",
       "      <td>NaN</td>\n",
       "      <td>159600</td>\n",
       "      <td>NaN</td>\n",
       "      <td>NaN</td>\n",
       "    </tr>\n",
       "    <tr>\n",
       "      <th>1980-03-21</th>\n",
       "      <td>2.92</td>\n",
       "      <td>NaN</td>\n",
       "      <td>NaN</td>\n",
       "      <td>2.92</td>\n",
       "      <td>NaN</td>\n",
       "      <td>NaN</td>\n",
       "      <td>3.02</td>\n",
       "      <td>NaN</td>\n",
       "      <td>NaN</td>\n",
       "      <td>2.91</td>\n",
       "      <td>NaN</td>\n",
       "      <td>NaN</td>\n",
       "      <td>0.00</td>\n",
       "      <td>NaN</td>\n",
       "      <td>NaN</td>\n",
       "      <td>130800</td>\n",
       "      <td>NaN</td>\n",
       "      <td>NaN</td>\n",
       "    </tr>\n",
       "  </tbody>\n",
       "</table>\n",
       "</div>"
      ],
      "text/plain": [
       "            Adj Close_AMD  Adj Close_NVDA  Adj Close_TSM  Close_AMD  \\\n",
       "Date                                                                  \n",
       "1980-03-17           3.15             NaN            NaN       3.15   \n",
       "1980-03-18           3.03             NaN            NaN       3.03   \n",
       "1980-03-19           3.04             NaN            NaN       3.04   \n",
       "1980-03-20           3.01             NaN            NaN       3.01   \n",
       "1980-03-21           2.92             NaN            NaN       2.92   \n",
       "\n",
       "            Close_NVDA  Close_TSM  High_AMD  High_NVDA  High_TSM  Low_AMD  \\\n",
       "Date                                                                        \n",
       "1980-03-17         NaN        NaN      3.30        NaN       NaN     3.12   \n",
       "1980-03-18         NaN        NaN      3.12        NaN       NaN     2.94   \n",
       "1980-03-19         NaN        NaN      3.08        NaN       NaN     3.02   \n",
       "1980-03-20         NaN        NaN      3.06        NaN       NaN     3.01   \n",
       "1980-03-21         NaN        NaN      3.02        NaN       NaN     2.91   \n",
       "\n",
       "            Low_NVDA  Low_TSM  Open_AMD  Open_NVDA  Open_TSM  Volume_AMD  \\\n",
       "Date                                                                       \n",
       "1980-03-17       NaN      NaN      0.00        NaN       NaN      219600   \n",
       "1980-03-18       NaN      NaN      0.00        NaN       NaN      727200   \n",
       "1980-03-19       NaN      NaN      0.00        NaN       NaN      295200   \n",
       "1980-03-20       NaN      NaN      0.00        NaN       NaN      159600   \n",
       "1980-03-21       NaN      NaN      0.00        NaN       NaN      130800   \n",
       "\n",
       "            Volume_NVDA  Volume_TSM  \n",
       "Date                                 \n",
       "1980-03-17          NaN         NaN  \n",
       "1980-03-18          NaN         NaN  \n",
       "1980-03-19          NaN         NaN  \n",
       "1980-03-20          NaN         NaN  \n",
       "1980-03-21          NaN         NaN  "
      ]
     },
     "execution_count": 134,
     "metadata": {},
     "output_type": "execute_result"
    },
    {
     "data": {
      "text/html": [
       "<div>\n",
       "<style scoped>\n",
       "    .dataframe tbody tr th:only-of-type {\n",
       "        vertical-align: middle;\n",
       "    }\n",
       "\n",
       "    .dataframe tbody tr th {\n",
       "        vertical-align: top;\n",
       "    }\n",
       "\n",
       "    .dataframe thead th {\n",
       "        text-align: right;\n",
       "    }\n",
       "</style>\n",
       "<table border=\"1\" class=\"dataframe\">\n",
       "  <thead>\n",
       "    <tr style=\"text-align: right;\">\n",
       "      <th></th>\n",
       "      <th>Adj Close_AMD</th>\n",
       "      <th>Adj Close_NVDA</th>\n",
       "      <th>Adj Close_TSM</th>\n",
       "      <th>Close_AMD</th>\n",
       "      <th>Close_NVDA</th>\n",
       "      <th>Close_TSM</th>\n",
       "      <th>High_AMD</th>\n",
       "      <th>High_NVDA</th>\n",
       "      <th>High_TSM</th>\n",
       "      <th>Low_AMD</th>\n",
       "      <th>Low_NVDA</th>\n",
       "      <th>Low_TSM</th>\n",
       "      <th>Open_AMD</th>\n",
       "      <th>Open_NVDA</th>\n",
       "      <th>Open_TSM</th>\n",
       "      <th>Volume_AMD</th>\n",
       "      <th>Volume_NVDA</th>\n",
       "      <th>Volume_TSM</th>\n",
       "    </tr>\n",
       "    <tr>\n",
       "      <th>Date</th>\n",
       "      <th></th>\n",
       "      <th></th>\n",
       "      <th></th>\n",
       "      <th></th>\n",
       "      <th></th>\n",
       "      <th></th>\n",
       "      <th></th>\n",
       "      <th></th>\n",
       "      <th></th>\n",
       "      <th></th>\n",
       "      <th></th>\n",
       "      <th></th>\n",
       "      <th></th>\n",
       "      <th></th>\n",
       "      <th></th>\n",
       "      <th></th>\n",
       "      <th></th>\n",
       "      <th></th>\n",
       "    </tr>\n",
       "  </thead>\n",
       "  <tbody>\n",
       "    <tr>\n",
       "      <th>2024-10-08</th>\n",
       "      <td>172.80</td>\n",
       "      <td>132.89</td>\n",
       "      <td>186.05</td>\n",
       "      <td>172.80</td>\n",
       "      <td>132.89</td>\n",
       "      <td>186.05</td>\n",
       "      <td>173.60</td>\n",
       "      <td>133.48</td>\n",
       "      <td>186.54</td>\n",
       "      <td>170.00</td>\n",
       "      <td>129.42</td>\n",
       "      <td>182.03</td>\n",
       "      <td>171.75</td>\n",
       "      <td>130.26</td>\n",
       "      <td>184.96</td>\n",
       "      <td>34730200</td>\n",
       "      <td>285722500.00</td>\n",
       "      <td>10394200.00</td>\n",
       "    </tr>\n",
       "    <tr>\n",
       "      <th>2024-10-09</th>\n",
       "      <td>171.02</td>\n",
       "      <td>132.65</td>\n",
       "      <td>187.14</td>\n",
       "      <td>171.02</td>\n",
       "      <td>132.65</td>\n",
       "      <td>187.14</td>\n",
       "      <td>174.05</td>\n",
       "      <td>134.52</td>\n",
       "      <td>188.00</td>\n",
       "      <td>169.55</td>\n",
       "      <td>131.38</td>\n",
       "      <td>182.26</td>\n",
       "      <td>174.05</td>\n",
       "      <td>134.11</td>\n",
       "      <td>187.80</td>\n",
       "      <td>33890700</td>\n",
       "      <td>246191600.00</td>\n",
       "      <td>11925000.00</td>\n",
       "    </tr>\n",
       "    <tr>\n",
       "      <th>2024-10-10</th>\n",
       "      <td>164.18</td>\n",
       "      <td>134.81</td>\n",
       "      <td>185.78</td>\n",
       "      <td>164.18</td>\n",
       "      <td>134.81</td>\n",
       "      <td>185.78</td>\n",
       "      <td>172.01</td>\n",
       "      <td>135.00</td>\n",
       "      <td>187.08</td>\n",
       "      <td>162.00</td>\n",
       "      <td>131.00</td>\n",
       "      <td>184.40</td>\n",
       "      <td>169.76</td>\n",
       "      <td>131.91</td>\n",
       "      <td>185.86</td>\n",
       "      <td>75113600</td>\n",
       "      <td>242311300.00</td>\n",
       "      <td>6443800.00</td>\n",
       "    </tr>\n",
       "    <tr>\n",
       "      <th>2024-10-11</th>\n",
       "      <td>167.89</td>\n",
       "      <td>134.80</td>\n",
       "      <td>190.81</td>\n",
       "      <td>167.89</td>\n",
       "      <td>134.80</td>\n",
       "      <td>190.81</td>\n",
       "      <td>169.35</td>\n",
       "      <td>135.78</td>\n",
       "      <td>191.49</td>\n",
       "      <td>163.01</td>\n",
       "      <td>133.66</td>\n",
       "      <td>188.01</td>\n",
       "      <td>164.19</td>\n",
       "      <td>134.01</td>\n",
       "      <td>188.17</td>\n",
       "      <td>42136200</td>\n",
       "      <td>170209500.00</td>\n",
       "      <td>12163900.00</td>\n",
       "    </tr>\n",
       "    <tr>\n",
       "      <th>2024-10-14</th>\n",
       "      <td>165.27</td>\n",
       "      <td>138.07</td>\n",
       "      <td>192.21</td>\n",
       "      <td>165.27</td>\n",
       "      <td>138.07</td>\n",
       "      <td>192.21</td>\n",
       "      <td>168.90</td>\n",
       "      <td>139.60</td>\n",
       "      <td>194.25</td>\n",
       "      <td>165.15</td>\n",
       "      <td>136.30</td>\n",
       "      <td>190.50</td>\n",
       "      <td>167.77</td>\n",
       "      <td>136.47</td>\n",
       "      <td>190.61</td>\n",
       "      <td>31757200</td>\n",
       "      <td>232347700.00</td>\n",
       "      <td>11714400.00</td>\n",
       "    </tr>\n",
       "  </tbody>\n",
       "</table>\n",
       "</div>"
      ],
      "text/plain": [
       "            Adj Close_AMD  Adj Close_NVDA  Adj Close_TSM  Close_AMD  \\\n",
       "Date                                                                  \n",
       "2024-10-08         172.80          132.89         186.05     172.80   \n",
       "2024-10-09         171.02          132.65         187.14     171.02   \n",
       "2024-10-10         164.18          134.81         185.78     164.18   \n",
       "2024-10-11         167.89          134.80         190.81     167.89   \n",
       "2024-10-14         165.27          138.07         192.21     165.27   \n",
       "\n",
       "            Close_NVDA  Close_TSM  High_AMD  High_NVDA  High_TSM  Low_AMD  \\\n",
       "Date                                                                        \n",
       "2024-10-08      132.89     186.05    173.60     133.48    186.54   170.00   \n",
       "2024-10-09      132.65     187.14    174.05     134.52    188.00   169.55   \n",
       "2024-10-10      134.81     185.78    172.01     135.00    187.08   162.00   \n",
       "2024-10-11      134.80     190.81    169.35     135.78    191.49   163.01   \n",
       "2024-10-14      138.07     192.21    168.90     139.60    194.25   165.15   \n",
       "\n",
       "            Low_NVDA  Low_TSM  Open_AMD  Open_NVDA  Open_TSM  Volume_AMD  \\\n",
       "Date                                                                       \n",
       "2024-10-08    129.42   182.03    171.75     130.26    184.96    34730200   \n",
       "2024-10-09    131.38   182.26    174.05     134.11    187.80    33890700   \n",
       "2024-10-10    131.00   184.40    169.76     131.91    185.86    75113600   \n",
       "2024-10-11    133.66   188.01    164.19     134.01    188.17    42136200   \n",
       "2024-10-14    136.30   190.50    167.77     136.47    190.61    31757200   \n",
       "\n",
       "            Volume_NVDA  Volume_TSM  \n",
       "Date                                 \n",
       "2024-10-08 285722500.00 10394200.00  \n",
       "2024-10-09 246191600.00 11925000.00  \n",
       "2024-10-10 242311300.00  6443800.00  \n",
       "2024-10-11 170209500.00 12163900.00  \n",
       "2024-10-14 232347700.00 11714400.00  "
      ]
     },
     "execution_count": 134,
     "metadata": {},
     "output_type": "execute_result"
    }
   ],
   "source": [
    "data.head()\n",
    "data.tail()"
   ]
  },
  {
   "cell_type": "markdown",
   "metadata": {},
   "source": [
    "Use the dataframe <i>data</i> to answer the following questions. You are welcome to use series methods on a column of the dataframe."
   ]
  },
  {
   "cell_type": "markdown",
   "metadata": {},
   "source": [
    "## 1. <a id='toc1_'></a>[Question 1: NVDA](#toc0_)"
   ]
  },
  {
   "cell_type": "markdown",
   "metadata": {},
   "source": [
    "### 1.1. <a id='toc1_1_'></a>[ When is the first date that NVDA closes at more than 135 dollars? (pick the closest date in Camino)](#toc0_)"
   ]
  },
  {
   "cell_type": "code",
   "execution_count": 74,
   "metadata": {},
   "outputs": [
    {
     "name": "stdout",
     "output_type": "stream",
     "text": [
      "The first date that NVDA closes at more than 135 dollars is 2024-06-18 00:00:00\n"
     ]
    }
   ],
   "source": [
    "# Step 1: Filter the data to only include rows where the NVDA is more than 135.\n",
    "# Step 2: Get the index of the first row in the filtered data because the index is the date.\n",
    "# Step 3: Get the first element of the index to get the first date.\n",
    "firstDate = data[data.Close_NVDA > 135].index.min()\n",
    "print(\"The first date that NVDA closes at more than 135 dollars is\", firstDate)"
   ]
  },
  {
   "cell_type": "markdown",
   "metadata": {},
   "source": [
    "### 1.2. <a id='toc1_2_'></a>[After the NVDA closing stock price hits 135 dollars, how many trading days did it take for NVDA reach the historical high? (pick the closest number of days in Camino)](#toc0_)"
   ]
  },
  {
   "cell_type": "code",
   "execution_count": 79,
   "metadata": {},
   "outputs": [
    {
     "name": "stdout",
     "output_type": "stream",
     "text": [
      "It took 82 trading days for NVDA to reach the historical high.\n"
     ]
    }
   ],
   "source": [
    "lastDate = data[data.Close_NVDA == data.Close_NVDA.max()].index.min()\n",
    "daysItTook = data.loc[firstDate:last_date].shape[0]\n",
    "print(\"It took\", daysItTook, \"trading days for NVDA to reach the historical high.\")"
   ]
  },
  {
   "cell_type": "markdown",
   "metadata": {},
   "source": [
    "### 1.3. <a id='toc1_3_'></a>[Report the correlation matrix between NVDA, TSM, and AMD's closing prices. Which pair of stocks are most correlated with each other? (answer MC question on Camino)](#toc0_) "
   ]
  },
  {
   "cell_type": "code",
   "execution_count": 94,
   "metadata": {},
   "outputs": [
    {
     "data": {
      "text/html": [
       "<div>\n",
       "<style scoped>\n",
       "    .dataframe tbody tr th:only-of-type {\n",
       "        vertical-align: middle;\n",
       "    }\n",
       "\n",
       "    .dataframe tbody tr th {\n",
       "        vertical-align: top;\n",
       "    }\n",
       "\n",
       "    .dataframe thead th {\n",
       "        text-align: right;\n",
       "    }\n",
       "</style>\n",
       "<table border=\"1\" class=\"dataframe\">\n",
       "  <thead>\n",
       "    <tr style=\"text-align: right;\">\n",
       "      <th></th>\n",
       "      <th>Close_NVDA</th>\n",
       "      <th>Close_TSM</th>\n",
       "      <th>Close_AMD</th>\n",
       "    </tr>\n",
       "  </thead>\n",
       "  <tbody>\n",
       "    <tr>\n",
       "      <th>Close_NVDA</th>\n",
       "      <td>1.00</td>\n",
       "      <td>0.83</td>\n",
       "      <td>0.85</td>\n",
       "    </tr>\n",
       "    <tr>\n",
       "      <th>Close_TSM</th>\n",
       "      <td>0.83</td>\n",
       "      <td>1.00</td>\n",
       "      <td>0.92</td>\n",
       "    </tr>\n",
       "    <tr>\n",
       "      <th>Close_AMD</th>\n",
       "      <td>0.85</td>\n",
       "      <td>0.92</td>\n",
       "      <td>1.00</td>\n",
       "    </tr>\n",
       "  </tbody>\n",
       "</table>\n",
       "</div>"
      ],
      "text/plain": [
       "            Close_NVDA  Close_TSM  Close_AMD\n",
       "Close_NVDA        1.00       0.83       0.85\n",
       "Close_TSM         0.83       1.00       0.92\n",
       "Close_AMD         0.85       0.92       1.00"
      ]
     },
     "execution_count": 94,
     "metadata": {},
     "output_type": "execute_result"
    },
    {
     "data": {
      "text/plain": [
       "(('Close_TSM', 'Close_AMD'), 0.924682353440895)"
      ]
     },
     "execution_count": 94,
     "metadata": {},
     "output_type": "execute_result"
    }
   ],
   "source": [
    "correlationMatrix = data[['Close_NVDA', 'Close_TSM', 'Close_AMD']].corr()\n",
    "# This is used to convert the correlation matrix into a series because it is easier for sorting\n",
    "correlatedPairs = correlationMatrix.unstack()\n",
    "# Removing any diagonals because the correlation of a stock with itself is 1.\n",
    "correlatedPairs = correlatedPairs[correlatedPairs < 1]\n",
    "# Find the pair of stocks with the highest correlation.\n",
    "mostCorrelatedPair = correlatedPairs.idxmax()\n",
    "# Find the highest correlation value between the pair of stocks.\n",
    "higestCorrelatedPair = correlatedPairs.max()\n",
    "correlationMatrix\n",
    "mostCorrelatedPair, higestCorrelatedPair"
   ]
  },
  {
   "cell_type": "markdown",
   "metadata": {},
   "source": [
    "### 1.4. <a id='toc1_4_'></a>[Suppose I apply the following transformation to adjust the original wide dataset. What structure of the dataset is now? What does each row of data represent? (answer MC question on Camino)](#toc0_)"
   ]
  },
  {
   "cell_type": "code",
   "execution_count": 95,
   "metadata": {},
   "outputs": [
    {
     "data": {
      "text/html": [
       "<div>\n",
       "<style scoped>\n",
       "    .dataframe tbody tr th:only-of-type {\n",
       "        vertical-align: middle;\n",
       "    }\n",
       "\n",
       "    .dataframe tbody tr th {\n",
       "        vertical-align: top;\n",
       "    }\n",
       "\n",
       "    .dataframe thead th {\n",
       "        text-align: right;\n",
       "    }\n",
       "</style>\n",
       "<table border=\"1\" class=\"dataframe\">\n",
       "  <thead>\n",
       "    <tr style=\"text-align: right;\">\n",
       "      <th></th>\n",
       "      <th>Date</th>\n",
       "      <th>Variable</th>\n",
       "      <th>Value</th>\n",
       "    </tr>\n",
       "  </thead>\n",
       "  <tbody>\n",
       "    <tr>\n",
       "      <th>0</th>\n",
       "      <td>1980-03-17</td>\n",
       "      <td>Adj Close_AMD</td>\n",
       "      <td>3.15</td>\n",
       "    </tr>\n",
       "    <tr>\n",
       "      <th>1</th>\n",
       "      <td>1980-03-18</td>\n",
       "      <td>Adj Close_AMD</td>\n",
       "      <td>3.03</td>\n",
       "    </tr>\n",
       "    <tr>\n",
       "      <th>2</th>\n",
       "      <td>1980-03-19</td>\n",
       "      <td>Adj Close_AMD</td>\n",
       "      <td>3.04</td>\n",
       "    </tr>\n",
       "    <tr>\n",
       "      <th>3</th>\n",
       "      <td>1980-03-20</td>\n",
       "      <td>Adj Close_AMD</td>\n",
       "      <td>3.01</td>\n",
       "    </tr>\n",
       "    <tr>\n",
       "      <th>4</th>\n",
       "      <td>1980-03-21</td>\n",
       "      <td>Adj Close_AMD</td>\n",
       "      <td>2.92</td>\n",
       "    </tr>\n",
       "  </tbody>\n",
       "</table>\n",
       "</div>"
      ],
      "text/plain": [
       "        Date       Variable  Value\n",
       "0 1980-03-17  Adj Close_AMD   3.15\n",
       "1 1980-03-18  Adj Close_AMD   3.03\n",
       "2 1980-03-19  Adj Close_AMD   3.04\n",
       "3 1980-03-20  Adj Close_AMD   3.01\n",
       "4 1980-03-21  Adj Close_AMD   2.92"
      ]
     },
     "execution_count": 95,
     "metadata": {},
     "output_type": "execute_result"
    },
    {
     "data": {
      "text/html": [
       "<div>\n",
       "<style scoped>\n",
       "    .dataframe tbody tr th:only-of-type {\n",
       "        vertical-align: middle;\n",
       "    }\n",
       "\n",
       "    .dataframe tbody tr th {\n",
       "        vertical-align: top;\n",
       "    }\n",
       "\n",
       "    .dataframe thead th {\n",
       "        text-align: right;\n",
       "    }\n",
       "</style>\n",
       "<table border=\"1\" class=\"dataframe\">\n",
       "  <thead>\n",
       "    <tr style=\"text-align: right;\">\n",
       "      <th>Metric</th>\n",
       "      <th>Date</th>\n",
       "      <th>Ticker</th>\n",
       "      <th>Adj Close</th>\n",
       "      <th>Close</th>\n",
       "      <th>High</th>\n",
       "      <th>Low</th>\n",
       "      <th>Open</th>\n",
       "      <th>Volume</th>\n",
       "    </tr>\n",
       "  </thead>\n",
       "  <tbody>\n",
       "    <tr>\n",
       "      <th>0</th>\n",
       "      <td>1980-03-17</td>\n",
       "      <td>AMD</td>\n",
       "      <td>3.15</td>\n",
       "      <td>3.15</td>\n",
       "      <td>3.30</td>\n",
       "      <td>3.12</td>\n",
       "      <td>0.00</td>\n",
       "      <td>219600.00</td>\n",
       "    </tr>\n",
       "    <tr>\n",
       "      <th>1</th>\n",
       "      <td>1980-03-18</td>\n",
       "      <td>AMD</td>\n",
       "      <td>3.03</td>\n",
       "      <td>3.03</td>\n",
       "      <td>3.12</td>\n",
       "      <td>2.94</td>\n",
       "      <td>0.00</td>\n",
       "      <td>727200.00</td>\n",
       "    </tr>\n",
       "    <tr>\n",
       "      <th>2</th>\n",
       "      <td>1980-03-19</td>\n",
       "      <td>AMD</td>\n",
       "      <td>3.04</td>\n",
       "      <td>3.04</td>\n",
       "      <td>3.08</td>\n",
       "      <td>3.02</td>\n",
       "      <td>0.00</td>\n",
       "      <td>295200.00</td>\n",
       "    </tr>\n",
       "    <tr>\n",
       "      <th>3</th>\n",
       "      <td>1980-03-20</td>\n",
       "      <td>AMD</td>\n",
       "      <td>3.01</td>\n",
       "      <td>3.01</td>\n",
       "      <td>3.06</td>\n",
       "      <td>3.01</td>\n",
       "      <td>0.00</td>\n",
       "      <td>159600.00</td>\n",
       "    </tr>\n",
       "    <tr>\n",
       "      <th>4</th>\n",
       "      <td>1980-03-21</td>\n",
       "      <td>AMD</td>\n",
       "      <td>2.92</td>\n",
       "      <td>2.92</td>\n",
       "      <td>3.02</td>\n",
       "      <td>2.91</td>\n",
       "      <td>0.00</td>\n",
       "      <td>130800.00</td>\n",
       "    </tr>\n",
       "  </tbody>\n",
       "</table>\n",
       "</div>"
      ],
      "text/plain": [
       "Metric       Date Ticker  Adj Close  Close  High  Low  Open    Volume\n",
       "0      1980-03-17    AMD       3.15   3.15  3.30 3.12  0.00 219600.00\n",
       "1      1980-03-18    AMD       3.03   3.03  3.12 2.94  0.00 727200.00\n",
       "2      1980-03-19    AMD       3.04   3.04  3.08 3.02  0.00 295200.00\n",
       "3      1980-03-20    AMD       3.01   3.01  3.06 3.01  0.00 159600.00\n",
       "4      1980-03-21    AMD       2.92   2.92  3.02 2.91  0.00 130800.00"
      ]
     },
     "execution_count": 95,
     "metadata": {},
     "output_type": "execute_result"
    }
   ],
   "source": [
    "import pandas as pd\n",
    "\n",
    "# Assuming your dataset is in a DataFrame called df\n",
    "df_melt = pd.melt(data.reset_index(), \n",
    "                  id_vars=['Date'], \n",
    "                  value_vars=[\n",
    "                      'Adj Close_AMD', 'Adj Close_NVDA', 'Adj Close_TSM',\n",
    "                      'Close_AMD', 'Close_NVDA', 'Close_TSM',\n",
    "                      'High_AMD', 'High_NVDA', 'High_TSM',\n",
    "                      'Low_AMD', 'Low_NVDA', 'Low_TSM',\n",
    "                      'Open_AMD', 'Open_NVDA', 'Open_TSM',\n",
    "                      'Volume_AMD', 'Volume_NVDA', 'Volume_TSM'],\n",
    "                  var_name='Variable', \n",
    "                  value_name='Value')\n",
    "\n",
    "df_melt.head()\n",
    "# Splitting the 'Variable' column to separate the ticker from the price type\n",
    "df_melt[['Metric', 'Ticker']] = df_melt['Variable'].str.split('_', expand=True)\n",
    "\n",
    "# Pivot the DataFrame to final format\n",
    "df_final = df_melt.pivot_table(index=['Date', 'Ticker'], \n",
    "                               columns='Metric', \n",
    "                               values='Value').reset_index()\n",
    "df_final.head()"
   ]
  },
  {
   "cell_type": "markdown",
   "metadata": {},
   "source": [
    "## 2. <a id='toc2_'></a>[Question 2: TSM](#toc0_)\n",
    "For the rest of the assignment, continue to use ```data``` as defined earlier."
   ]
  },
  {
   "cell_type": "markdown",
   "metadata": {},
   "source": [
    "### 2.1. <a id='toc2_1_'></a>[Find the top 5 largest one-day % gain (in % compared to the closing cost of the previous trading day). Make sure that your output is a Series object that shows both date and the % gain. (pick the date closest to the day with the largest gain ratio in Camino)](#toc0_)"
   ]
  },
  {
   "cell_type": "code",
   "execution_count": 173,
   "metadata": {},
   "outputs": [
    {
     "data": {
      "text/plain": [
       "Date\n",
       "2000-10-19   22.74\n",
       "1997-10-28   22.63\n",
       "2008-10-28   21.07\n",
       "2002-10-15   19.47\n",
       "2000-02-03   18.45\n",
       "Name: Close_TSM, dtype: float64"
      ]
     },
     "execution_count": 173,
     "metadata": {},
     "output_type": "execute_result"
    },
    {
     "data": {
      "text/plain": [
       "pandas.core.series.Series"
      ]
     },
     "execution_count": 173,
     "metadata": {},
     "output_type": "execute_result"
    }
   ],
   "source": [
    "# The percentage gain is calculated by taking the difference between the closing cost of the current day and the closing cost of the previous day, and then dividing that difference by the closing cost of the previous day.\n",
    "# # pct_change() is a aggregate function to find the percentage change between the current and previous element\n",
    "oneDayPercentChange = data['Close_TSM'].pct_change() * 100\n",
    "topFiveLargest = oneDayPercentChange.nlargest(5)\n",
    "topFiveLargest\n",
    "type(topFiveLargest) # Checking output is a series"
   ]
  },
  {
   "cell_type": "markdown",
   "metadata": {},
   "source": [
    "## 3. <a id='toc3_'></a>[Question 3: AMD](#toc0_)"
   ]
  },
  {
   "cell_type": "markdown",
   "metadata": {},
   "source": [
    "### 3.1. <a id='toc3_1_'></a>[ Consider the following investment strategy for AMD: buy at the end of day 1, sell on the end of day 3.  Based on this strategy, what is the highest dollar amount you would lose in one trade?  Also report the buying and selling date for that particular trade. (pick the closest dollar amount it dropped in Camino)](#toc0_)"
   ]
  },
  {
   "cell_type": "code",
   "execution_count": 136,
   "metadata": {},
   "outputs": [
    {
     "data": {
      "text/plain": [
       "-21.779998779296875"
      ]
     },
     "execution_count": 136,
     "metadata": {},
     "output_type": "execute_result"
    },
    {
     "data": {
      "text/plain": [
       "Timestamp('2024-07-16 00:00:00')"
      ]
     },
     "execution_count": 136,
     "metadata": {},
     "output_type": "execute_result"
    },
    {
     "data": {
      "text/plain": [
       "Timestamp('2015-07-23 00:00:00')"
      ]
     },
     "execution_count": 136,
     "metadata": {},
     "output_type": "execute_result"
    }
   ],
   "source": [
    "# shift(-2) is used to get the closing cost of day 3\n",
    "loss_in_one_trade = (data['Close_AMD'].shift(-2)) - data.Close_AMD\n",
    "highestLoss= loss_in_one_trade.min()\n",
    "# first occurrence of the minimum value\n",
    "buyingDate = loss_in_one_trade.idxmin() \n",
    "sellingDate = data['Close_AMD'].shift(-2).idxmin()\n",
    "highestLoss\n",
    "buyingDate\n",
    "sellingDate"
   ]
  },
  {
   "cell_type": "markdown",
   "metadata": {},
   "source": [
    "## 4. <a id='toc4_'></a>[Question 4: Stock Movements in NVDA](#toc0_)"
   ]
  },
  {
   "cell_type": "markdown",
   "metadata": {},
   "source": [
    "### 4.1. <a id='toc4_1_'></a>[In which days did we observe that the price increased more than 60% within the 9 preceding trading sessions? Report your result as a Series (d,gain) where *d* is the trading session date when the increase was observed and *gain* is the maximum percentage gain (%) observed over the 9 preceding trading session (today compared with previous 9 trading days).](#toc0_)\n",
    "\n",
    "*Hint:* use a **rolling** minimum. Today + 9 more days -> use rolling(10). (pick the closest date that has the highest gain ratio in Camino) "
   ]
  },
  {
   "cell_type": "code",
   "execution_count": 168,
   "metadata": {
    "scrolled": true
   },
   "outputs": [
    {
     "data": {
      "text/plain": [
       "Date\n",
       "2000-02-18   0.77\n",
       "2000-02-22   0.64\n",
       "2000-02-23   0.61\n",
       "2000-03-09   0.64\n",
       "2000-03-10   0.94\n",
       "2000-03-13   1.33\n",
       "2000-03-14   0.77\n",
       "2000-03-15   0.82\n",
       "2000-03-17   0.71\n",
       "2001-10-12   0.61\n",
       "2001-10-15   0.69\n",
       "Name: Close_NVDA, dtype: float64"
      ]
     },
     "execution_count": 168,
     "metadata": {},
     "output_type": "execute_result"
    }
   ],
   "source": [
    "percentChange = data['Close_NVDA'].pct_change()\n",
    "percentChangeInNineDays = data['Close_NVDA'].pct_change(9)\n",
    "finalResult = percentChangeInNineDays[percentChangeInNineDays > 0.6]\n",
    "finalResult"
   ]
  },
  {
   "cell_type": "markdown",
   "metadata": {},
   "source": [
    "## 5. <a id='toc5_'></a>[Question 5: NVDA](#toc0_)"
   ]
  },
  {
   "cell_type": "markdown",
   "metadata": {},
   "source": [
    "### 5.1. <a id='toc5_1_'></a>[What was the **worst** possible \"buy&sell\" operation? Find the two days x and y so that the % loss resulting from buying in x and selling in y (with y after x) is maximized. Your code should work for any data.](#toc0_)\n",
    "\n",
    "*Hint:* Use method cummax() or method cummin(). *Cummax/Cummin* returns the maximum/minimum value encountered so far. Make sure to return the trading days x and y, as well as the % loss resulting from buying in x and selling in y.\n",
    "\n",
    "(Fill in blank for the buying and selling dates in Camino with the format 'buying-date/selling-date' (for example, 2001-01-01/2010-12-31)"
   ]
  },
  {
   "cell_type": "code",
   "execution_count": 174,
   "metadata": {},
   "outputs": [
    {
     "data": {
      "text/plain": [
       "-0.00897224320424378"
      ]
     },
     "execution_count": 174,
     "metadata": {},
     "output_type": "execute_result"
    },
    {
     "data": {
      "text/plain": [
       "Timestamp('2002-01-03 00:00:00')"
      ]
     },
     "execution_count": 174,
     "metadata": {},
     "output_type": "execute_result"
    },
    {
     "data": {
      "text/plain": [
       "Timestamp('2002-10-09 00:00:00')"
      ]
     },
     "execution_count": 174,
     "metadata": {},
     "output_type": "execute_result"
    }
   ],
   "source": [
    "cumulativeMax = data['Close_NVDA'].cummax()\n",
    "# Percentage loss\n",
    "percentageLoss = (data['Close_NVDA'] - cumulativeMax) / (cumulativeMax * 100)  \n",
    "highestLoss = percentageLoss.min()  \n",
    "sellingDate = percentageLoss.idxmin()  \n",
    "buyingDate = cumulativeMax[:sellingDate].idxmax() \n",
    "highestLoss\n",
    "buyingDate\n",
    "sellingDate"
   ]
  }
 ],
 "metadata": {
  "kernelspec": {
   "display_name": "Python 3 (ipykernel)",
   "language": "python",
   "name": "python3"
  },
  "language_info": {
   "codemirror_mode": {
    "name": "ipython",
    "version": 3
   },
   "file_extension": ".py",
   "mimetype": "text/x-python",
   "name": "python",
   "nbconvert_exporter": "python",
   "pygments_lexer": "ipython3",
   "version": "3.10.9"
  },
  "toc": {
   "base_numbering": 1,
   "nav_menu": {},
   "number_sections": true,
   "sideBar": true,
   "skip_h1_title": true,
   "title_cell": "Table of Contents",
   "title_sidebar": "Contents",
   "toc_cell": true,
   "toc_position": {
    "height": "calc(100% - 180px)",
    "left": "10px",
    "top": "150px",
    "width": "165px"
   },
   "toc_section_display": true,
   "toc_window_display": true
  }
 },
 "nbformat": 4,
 "nbformat_minor": 1
}
