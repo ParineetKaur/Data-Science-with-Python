{
 "cells": [
  {
   "cell_type": "markdown",
   "id": "3d8355a8",
   "metadata": {},
   "source": [
    "# Homework 1 – Sentiment Analysis on X(Twitter) Data"
   ]
  },
  {
   "cell_type": "markdown",
   "id": "3411e378",
   "metadata": {},
   "source": [
    "#### Student Name: Parneet Kaur\n",
    "#### OMIS 114\n",
    "#### Professor Wilson Lin"
   ]
  },
  {
   "cell_type": "markdown",
   "id": "d4443f51",
   "metadata": {},
   "source": [
    "***"
   ]
  },
  {
   "cell_type": "markdown",
   "id": "ae386fbe",
   "metadata": {},
   "source": [
    "The following cell makes sure that all of the outputs of a cell are printed."
   ]
  },
  {
   "cell_type": "code",
   "execution_count": 249,
   "id": "da9c07fa",
   "metadata": {},
   "outputs": [],
   "source": [
    "# print all the outputs in a cell\n",
    "from IPython.core.interactiveshell import InteractiveShell\n",
    "InteractiveShell.ast_node_interactivity = \"all\"\n",
    "#conda install -c conda-forge ipympl"
   ]
  },
  {
   "cell_type": "code",
   "execution_count": 250,
   "id": "90c855a8",
   "metadata": {},
   "outputs": [
    {
     "data": {
      "application/javascript": [
       "IPython.notebook.set_autosave_interval(1000000)"
      ]
     },
     "metadata": {},
     "output_type": "display_data"
    },
    {
     "name": "stdout",
     "output_type": "stream",
     "text": [
      "Autosaving every 1000 seconds\n"
     ]
    }
   ],
   "source": [
    "%autosave 1000"
   ]
  },
  {
   "cell_type": "markdown",
   "id": "6c216d83",
   "metadata": {},
   "source": [
    "<b> Step 1: </b> Loading the Data from Each Given File "
   ]
  },
  {
   "cell_type": "code",
   "execution_count": 251,
   "id": "5ea29dea",
   "metadata": {},
   "outputs": [],
   "source": [
    "# with open()automatically closes the file after reading\n",
    "with open('Trump.txt', 'r', encoding='utf-8', errors='ignore') as fhand: # encoding='utf-8' ensures that Python can correctly handle all the characters in the file (especially, here, we can have special characters)\n",
    "    tweets = fhand.read()\n",
    "\n",
    "with open('negative.txt', 'r') as f1:\n",
    "    negativeContents = f1.read()\n",
    "    # Notice: On the file, we have all words on differnt lines (i.e. new lines)\n",
    "    negative_words = negativeContents.split('\\n')\n",
    "\n",
    "with open('positive.txt', 'r') as f2:\n",
    "    positiveContents = f2.read()\n",
    "    # Notice: On the file, we have all words on differnt lines (i.e. new lines)\n",
    "    postive_words = positiveContents.split('\\n')\n",
    "\n",
    "with open('stopwords.txt', 'r') as f3:\n",
    "    stopwordsContents = f3.read()\n",
    "    # Notice: On the file, we have all words on differnt lines (i.e. new lines)\n",
    "    stopwords_words = stopwordsContents.split('\\n')"
   ]
  },
  {
   "cell_type": "markdown",
   "id": "f6d5e530",
   "metadata": {},
   "source": [
    "<b> Step 2: </b> Data Cleaning Using Function"
   ]
  },
  {
   "cell_type": "code",
   "execution_count": 489,
   "id": "72c27518",
   "metadata": {},
   "outputs": [],
   "source": [
    "import re\n",
    "\n",
    "def cleanFile(tweets): \n",
    "    # Remove non-ASCII characters \n",
    "    cleanedTweets = tweets.encode('ascii', 'ignore').decode('ascii') \n",
    "    cleanedTweets = ' '.join(cleanedTweets.split())\n",
    "    \n",
    "    # Remove byte-like prefixes (e.g., b') and retweet markers (rt)\n",
    "    # Had to do this manually because the file contains the string 'b' at the beginning of each tweet\n",
    "    # b' - Matches the character b followed by a single quote\n",
    "    # | - Bitwise OR operator\n",
    "    # b\\\" - Matches the character b followed by a double quote\n",
    "    cleanedTweets = re.sub(r\"b'|b\\\"\", '', cleanedTweets)\n",
    "\n",
    "    cleanedTweets = re.sub(r'\\brt\\b', '', cleanedTweets) \n",
    "\n",
    "    # Convert all text to lowercase\n",
    "    cleanedTweets = cleanedTweets.lower()\n",
    "\n",
    "    # Remove URLs\n",
    "    # https? - 'http' or 'https'\n",
    "    # :// - Matches characters '://'\n",
    "    # \\S+ - Matches one or more non-whitespace characters (so, going ahead and checking other characters in link)\n",
    "    cleanedTweets = re.sub(r'https?://\\S+', '', cleanedTweets)\n",
    "\n",
    "    # Remove new lines and \n",
    "    cleanedTweets = re.sub(r'\\n', ' ', cleanedTweets)\n",
    "\n",
    "    # Remove extra spaces\n",
    "    cleanedTweets = re.sub(r'\\s+', ' ', cleanedTweets)\n",
    "\n",
    "    # Remove mentions, hashtags, and other punctuation\n",
    "    cleanedTweets = re.sub(r'@\\w+', '', cleanedTweets)\n",
    "    cleanedTweets = re.sub(r'#\\w+', '', cleanedTweets)\n",
    "    cleanedTweets = re.sub(r'[^\\w\\s]', '', cleanedTweets)\n",
    "    \n",
    "    # Remove all single characters at the start of the string\n",
    "    cleanedTweets = re.sub(r'\\s+[a-zA-Z]\\s+', ' ', cleanedTweets)\n",
    "    cleanedTweets = re.sub(r'\\s+', ' ', cleanedTweets)\n",
    "    \n",
    "    # Remove numbers\n",
    "    cleanedTweets = ''.join([j for j in cleanedTweets if not j.isdigit()])\n",
    "     \n",
    "    # Manually removing unwanted xexx' pattern \n",
    "    cleanedTweets = re.sub(r'xexx', '', cleanedTweets)\n",
    "    \n",
    "    # Remove excessive repeating characters or invalid patterns\n",
    "    cleanedTweets = ' '.join([w for w in cleanedTweets.split() \n",
    "                              if not re.search(r'(.)\\1{2,}', w) \n",
    "                              and len(w) > 1\n",
    "                              and not re.search(r'[^a-zA-Z]', w)])\n",
    "    \n",
    "    \n",
    "    # Split the cleaned string into words \n",
    "    cleanedTweets = cleanedTweets.split()\n",
    "    \n",
    "     # Notice: There are words that will still have trump in them and it does not get separated, so will do this manually: \n",
    "    newWord = []\n",
    "    for w in cleanedTweets:\n",
    "        if 'trump' in w:\n",
    "            parts = re.split(r'(trump)', w)\n",
    "            newWord.extend(part for part in parts if part) \n",
    "        else:\n",
    "            newWord.append(w)\n",
    "    \n",
    "    return newWord"
   ]
  },
  {
   "cell_type": "markdown",
   "id": "6b3bc13f",
   "metadata": {},
   "source": [
    "### General Test\n",
    "***"
   ]
  },
  {
   "cell_type": "code",
   "execution_count": 490,
   "id": "22685bec",
   "metadata": {},
   "outputs": [
    {
     "name": "stdout",
     "output_type": "stream",
     "text": [
      "['be', 'careful', 'what', 'you', 'wish', 'for', 'new', 'rusty', 'bowers', 'republican', 'arizona', 'house', 'speaker', 'says', 'trump', 'backed', 'gop', 'candidates', 'might', 'send', 'the', 'country', 'cback', 'intanrt', 'should', 'the', 'justice', 'department', 'file', 'criminal', 'charges', 'against', 'the', 'owners', 'of', 'fox', 'news', 'oan', 'and', 'newsmax', 'for', 'helping', 'donaldanrt', 'fun', 'fact', 'every', 'single', 'state', 'that', 'voted', 'for', 'donald', 'trump', 'receives', 'more', 'money', 'from', 'the', 'federal', 'government', 'than', 'it', 'contributeanrt', 'breaking', 'ny', 'ag', 'letitia', 'james', 'just', 'filed', 'civil', 'fraud', 'lawsuit', 'against', 'donald', 'trump', 'donald', 'trump', 'jr', 'eric', 'trump', 'ivankaanrt', 'ny', 'ag', 'trump', 'case', 'is', 'not', 'about', 'subjective', 'real', 'estate', 'valuations', 'these', 'are', 'not', 'inflations', 'of', 'these', 'are', 'inflationsanrt', 'the', 'art', 'of', 'the', 'steal', 'has', 'just', 'been', 'busted', 'by', 'ag', 'letitia', 'james', 'james', 'just', 'filed', 'civil', 'mm', 'fraud', 'lawsuit', 'against', 'donald', 'tanrt', 'bill', 'barr', 'on', 'ny', 'ags', 'lawsuit', 'this', 'is', 'political', 'hit', 'job', 'think', 'its', 'gonna', 'back', 'firing', 'on', 'them', 'for', 'trump', 'this', 'is', 'ananrt', 'remember', 'the', 'investigation', 'that', 'led', 'to', 'this', 'lawsuit', 'against', 'the', 'trump', 's', 'which', 'has', 'been', 'referred', 'to', 'the', 'feds', 'for', 'criminanrt', 'letitia', 'james', 'just', 'moved', 'on', 'trump', 'like', 'btch', 'she', 'didnt', 'even', 'waitnrt', 'just', 'the', 'very', 'fact', 'that', 'trump', 'could', 'be', 'barred', 'from', 'taking', 'on', 'any', 'new', 'loans', 'might', 'have', 'the', 'result', 'of', 'him', 'not', 'being', 'ablean', 'fyiletitia', 'james', 'did', 'not', 'make', 'trump', 'lie', 'about', 'property', 'values', 'to', 'cheat', 'on', 'taxes', 'or', 'to', 'get', 'loansclnrt', 'we', 'have', 'to', 'assume', 'that', 'the', 'odds', 'of', 'trump', 's', 'going', 'to', 'jailas', 'satisfying', 'as', 'it', 'would', 'be', 'to', 'many', 'americansare', 'far', 'smaller', 'tanrt', 'trump', 'is', 'going', 'to', 'ci', 'dont', 'know', 'themd', 'about', 'his', 'own', 'children', 'isnt', 'henn', 'thats', 'the', 'problem', 'he', 'cant', 'get', 'good', 'lawyers', 'because', 'he', 'doesnt', 'pay', 'them', 'he', 'should', 'have', 'as', 'former', 'president', 'the', 'best', 'law', 'firms', 'and', 'lawyers', 'in', 'the', 'world', 'why', 'doesnt', 'henrt', 'deutsche', 'bank', 'has', 'been', 'cooperating', 'with', 'this', 'office', 'has', 'to', 'be', 'one', 'of', 'the', 'more', 'terrifyingto', 'trump', 'things', 'tish', 'james', 'said', 'thianrt', 'new', 'york', 'attorney', 'general', 'letitia', 'james', 'announces', 'million', 'lawsuit', 'against', 'former', 'president', 'trump', 'three', 'of', 'hisanrt', 'cant', 'stand', 'michael', 'cohen', 'but', 'he', 'definitely', 'deserves', 'big', 'thumbs', 'up', 'for', 'getting', 'the', 'ball', 'rolling', 'on', 'this', 'conman', 'and', 'his', 'ranthe', 'gopmaga', 'cult', 'supporting', 'trump', 'will', 'come', 'to', 'the', 'realization', 'that', 'he', 'spreads', 'lies', 'hate', 'deception', 'and', 'disinformation', 'trump', 's', 'followers', 'will', 'realize', 'their', 'minds', 'have', 'been', 'manipulated', 'tricked', 'and', 'fooled', 'into', 'not', 'accepting', 'truth', 'and', 'facts', 'the', 'thing', 'appreciate', 'about', 'letitia', 'james', 'is', 'she', 'openly', 'and', 'unapologetically', 'talks', 'about', 'donald', 'trump', 'like', 'the', 'rottenan', 'round', 'in', 'the', 'chamber', 'and', 'the', 'safety', 'off', 'sounds', 'like', 'darwin', 'award', 'nthis', 'is', 'why', 'firearm', 'safety', 'classes', 'should', 'be', 'mandatory', 'before', 'purchasenprobably', 'because', 'he', 'was', 'going', 'to', 'jail', 'the', 'witch', 'hunt', 'against', 'president', 'trump', 'and', 'his', 'family', 'is', 'unprecedented', 'in', 'american', 'politics', 'nbut', 'it', 'only', 'makes', 'his', 'bond', 'wan', 'its', 'more', 'than', 'that', 'russias', 'war', 'effort', 'vs', 'ukraine', 'began', 'to', 'falter', 'almost', 'immediately', 'after', 'fbi', 'seized', 'top', 'secret', 'docs', 'from', 'mal', 'coincidencen', 'oh', 'come', 'on', 'its', 'just', 'another', 'one', 'of', 'his', 'delusional', 'grandiose', 'liesnrt', 'liz', 'cheney', 'january', 'contrary', 'to', 'what', 'my', 'colleague', 'from', 'illinois', 'rodney', 'davis', 'just', 'said', 'was', 'not', 'democracy', 'in', 'action', 'an', 'they', 'are', 'not', 'childrennhe', 'didnt', 'tell', 'us', 'until', 'last', 'yr', 'he', 'was', 'one', 'of', 'the', 'master', 'minds', 'separating', 'babies', 'he', 'owes', 'those', 'children', 'lot', 'dont', 'trust', 'him', 'either', 'that', 'mama', 'duck', 'is', 'fully', 'indoctrinated', 'into', 'the', 'cult', 'of', 'trump', 'the', 'wool', 'is', 'over', 'her', 'eyesa', 'poor', 'thing', 'he', 'can', 'do', 'no', 'wrongnrt', 'and', 'who', 'was', 'in', 'charge', 'of', 'the', 'trump', 'tower', 'moscow', 'projectnnoh', 'yeah', 'vankynnand', 'who', 'was', 'running', 'trump', 'organrt', 'trump', 'will', 'never', 'get', 'another', 'loan', 'from', 'bank', 'most', 'likely', 'so', 'its', 'all', 'on', 'you', 'now', 'maga', 'to', 'support', 'his', 'lavish', 'lifestyle', 'amp', 'hianrt', 'if', 'trump', 'didnt', 'run', 'for', 'president', 'he', 'be', 'billion', 'richer', 'and', 'tds', 'wouldnt', 'existnngod', 'bless', 'the', 'its', 'insane', 'that', 'in', 'america', 'people', 'receive', 'decades', 'long', 'sentences', 'for', 'stealing', 'slice', 'of', 'pizza', 'tube', 'socks', 'bill', 'ban', 'so', 'long', 'as', 'its', 'the', 'end', 'of', 'the', 'trump', 'virus', 'we', 'need', 'to', 'end', 'this', 'familys', 'stronghold', 'on', 'small', 'but', 'powerful', 'part', 'of', 'the', 'country', 'litigate', 'them', 'to', 'irrelevance', 'because', 'it', 'is', 'long', 'overdue', 'and', 'just', 'he', 'gives', 'hope', 'to', 'the', 'lawless', 'selfish', 'and', 'hateful', 'people', 'of', 'this', 'countryn', 'you', 'are', 'right', 'maga', 'is', 'in', 'pursuit', 'of', 'both', 'and', 'its', 'political', 'but', 'can', 'you', 'point', 'me', 'to', 'an', 'ag', 'investigating', 'obama', 'clinton', 'etc', 'want', 'to', 'clarify', 'that', 'im', 'an', 'ind', 'and', 'not', 'trump', 'supporternrt', 'please', 'join', 'me', 'in', 'wishing', 'very', 'happy', 'th', 'birthday', 'to', 'one', 'of', 'the', 'greatest', 'authors', 'of', 'our', 'time', 'amp', 'an', 'important', 'ally', 'inan', 'in', 'bloody', 'second', 'yesnrt', 'the', 'more', 'read', 'about', 'the', 'ny', 'ag', 'civil', 'fraud', 'case', 'against', 'trump', 'the', 'more', 'wonder', 'how', 'manhattan', 'da', 'alvin', 'bragg', 'could', 'possanrt', 'this', 'lawsuit', 'against', 'trump', 'is', 'great', 'start', 'but', 'wont', 'be', 'fully', 'satisfied', 'until', 'that', 'crooked', 'jackass', 'is', 'behind', 'barsndoes', 'he', 'read', 'his', 'own', 'statements', 'if', 'hes', 'not', 'guilty', 'in', 'of', 'another', 'hoax', 'was', 'he', 'guilty', 'in', 'nitwit', 'na', 'claim', 'trump', 'defrauded', 'lendersxfxfxaxa', 'like', 'if', 'those', 'were', 'kindergarten', 'teachersxfxfxaxaxfxfxfxbbdxefxbxf', 'thats', 'not', 'what', 'state', 'attorneys', 'donrt', 'democrat', 'ag', 'of', 'ny', 'am', 'filing', 'charges', 'on', 'trump', 's', 'entire', 'family', 'nnrepublican', 'ag', 'of', 'nd', 'conservative', 'teen', 'murdered', 'soranrt', 'when', 'you', 'have', 'corrupt', 'system', 'there', 'will', 'inevitably', 'be', 'systemdisruptors', 'who', 'emerge', 'corrupt', 'systems', 'then', 'do', 'anything', 'aan', 'fraud', 'are', 'you', 'involved', 'xfxfxaxaxfxfxaxaxfxfxaxaxfxfxaxan', 'why', 'did', 'trump', 'take', 'the', 'th', 'over', 'times', 'during', 'his', 'depositionnrt', 'ny', 'ag', 'james', 'trump', 'falsely', 'claimed', 'his', 'own', 'triplex', 'in', 'trump', 'tower', 'was', 'worth', 'million', 'three', 'times', 'its', 'actual', 'valueanrt', 'who', 'else', 'thinks', 'xexcxbthat', 'donald', 'trump', 'was', 'the', 'most', 'corrupt', 'president', 'in', 'american', 'historyn', 'what', 'is', 'america', 'going', 'to', 'do', 'about', 'supreme', 'court', 'judges', 'whos', 'wife', 'was', 'part', 'of', 'jann', 'totally', 'not', 'politically', 'motivated', 'witch', 'hunt', 'by', 'political', 'candidate', 'seeking', 'reelection', 'nnthis', 'is', 'normal', 'behavior', 'and', 'completely', 'legitimate', 'political', 'discoursenrt', 'trump', 'is', 'exactly', 'who', 'should', 'be', 'banned', 'from', 'doing', 'businessnndoing', 'business', 'while', 'being', 'shielded', 'from', 'personal', 'liabilityan', 'heres', 'real', 'criminalnn', 'trump', 'gets', 'rich', 'by', 'treating', 'everyone', 'in', 'america', 'badlynhe', 'fundraises', 'off', 'his', 'base', 'and', 'uses', 'most', 'of', 'the', 'money', 'for', 'himself', 'he', 'charges', 'yuuge', 'amounts', 'for', 'his', 'security', 'team', 'to']\n"
     ]
    }
   ],
   "source": [
    "# Testing the Code above to see 40 outputs in the list \n",
    "# Call the function: \n",
    "newCleanedTweets = cleanFile(tweets)\n",
    "print(newCleanedTweets[:1000])"
   ]
  },
  {
   "cell_type": "markdown",
   "id": "264e4771",
   "metadata": {},
   "source": [
    "<b> Question 1: </b> What’s the word count for positive/negative/stop word/other?"
   ]
  },
  {
   "cell_type": "code",
   "execution_count": 491,
   "id": "8edac45e",
   "metadata": {},
   "outputs": [],
   "source": [
    "def wordCounter(newCleanedTweets, negativeContents, positiveContents, stopwordsContents):\n",
    "    posWordCount = 0\n",
    "    negWordCount = 0\n",
    "    stopWordCount = 0\n",
    "    otherWordCount = 0\n",
    "\n",
    "    for word in newCleanedTweets:\n",
    "        if word in positiveContents:\n",
    "            posWordCount += 1\n",
    "        elif word in negativeContents:\n",
    "            negWordCount += 1\n",
    "        elif word in stopwordsContents:\n",
    "            stopWordCount += 1\n",
    "        else:\n",
    "            otherWordCount += 1\n",
    "    \n",
    "    return posWordCount, negWordCount, stopWordCount, otherWordCount\n"
   ]
  },
  {
   "cell_type": "code",
   "execution_count": 492,
   "id": "f07fc558",
   "metadata": {
    "scrolled": true
   },
   "outputs": [
    {
     "name": "stdout",
     "output_type": "stream",
     "text": [
      "There are  63715  positive words in the tweets.\n",
      "There are  15492  negative words in the tweets.\n",
      "There are  12239  stop words in the tweets.\n",
      "There are  44059  other words in the tweets.\n"
     ]
    }
   ],
   "source": [
    "# Call the function: \n",
    "posWordCount, negWordCount, stopWordCount, otherWordCount = wordCounter(newCleanedTweets, negativeContents, positiveContents, stopwordsContents)\n",
    "print (\"There are \", posWordCount, \" positive words in the tweets.\")\n",
    "print (\"There are \", negWordCount, \" negative words in the tweets.\")\n",
    "print (\"There are \", stopWordCount, \" stop words in the tweets.\")\n",
    "print (\"There are \", otherWordCount, \" other words in the tweets.\")"
   ]
  },
  {
   "cell_type": "markdown",
   "id": "9858e44d",
   "metadata": {},
   "source": [
    "<b> Question 2: </b> What’s the ratio of positive/negative/stop word/other, compared to the total word count?"
   ]
  },
  {
   "cell_type": "markdown",
   "id": "0dfeea0c",
   "metadata": {},
   "source": [
    "<b> Question 3: </b> What’s the ratio for positive versus negative word count? (positive words # / negative\n",
    "words #)"
   ]
  },
  {
   "cell_type": "code",
   "execution_count": 493,
   "id": "9711e177",
   "metadata": {},
   "outputs": [],
   "source": [
    "def ratios(newCleanedTweets, negativeContents, positiveContents, stopwordsContents):\n",
    "    # call the wordCounter function to get the word counts\n",
    "    posWordCount, negWordCount, stopWordCount, otherWordCount = wordCounter(newCleanedTweets, negativeContents, positiveContents, stopwordsContents)\n",
    "\n",
    "    wordCountSum = posWordCount + negWordCount + stopWordCount + otherWordCount\n",
    "    # To check, use -> print(wordCountSum)\n",
    "\n",
    "    # Rounding each ratio by 2 digits because this is necessary for a concise understanding \n",
    "    posRatio = round(posWordCount/wordCountSum, 2) \n",
    "    negRatio = round(negWordCount/wordCountSum, 2)  \n",
    "    stopRatio = round(stopWordCount/wordCountSum, 2) \n",
    "    otherRatio = round(otherWordCount/wordCountSum, 2)\n",
    "    \n",
    "    # Ratio of postive words / negative words \n",
    "    postiveVersusNegative = round(posWordCount/negWordCount, 2)\n",
    "    \n",
    "    print (\"The ratio of positive words to total words is:\", posRatio)\n",
    "    print (\"The ratio of negative words to total words is:\", negRatio)\n",
    "    print (\"The ratio of stop words to total words is:\", stopRatio)\n",
    "    print (\"The ratio of other words to total words is:\", otherRatio)\n",
    "    \n",
    "    print(\"Positive Word Count / Negative Word Count:\", posWordCount, \"/\", negWordCount, \"=\", postiveVersusNegative)"
   ]
  },
  {
   "cell_type": "code",
   "execution_count": 494,
   "id": "864d17ef",
   "metadata": {
    "scrolled": true
   },
   "outputs": [
    {
     "name": "stdout",
     "output_type": "stream",
     "text": [
      "The ratio of positive words to total words is: 0.47\n",
      "The ratio of negative words to total words is: 0.11\n",
      "The ratio of stop words to total words is: 0.09\n",
      "The ratio of other words to total words is: 0.33\n",
      "Positive Word Count / Negative Word Count: 63715 / 15492 = 4.11\n"
     ]
    }
   ],
   "source": [
    "# Call the function: \n",
    "ratios(newCleanedTweets, negativeContents, positiveContents, stopwordsContents)"
   ]
  },
  {
   "cell_type": "markdown",
   "id": "c3da0215",
   "metadata": {},
   "source": [
    "<b> Question from Answer Sheet (Not included in Homework Document: </b> If we account for \"Trump\" to not be a positive/negative/stopword, what would be the updated ratio for positive and negative words? (provide the decimal value of positive # / negative #, 2 decimal places)"
   ]
  },
  {
   "cell_type": "code",
   "execution_count": 495,
   "id": "3885ddc6",
   "metadata": {},
   "outputs": [],
   "source": [
    "def newRatios(newCleanedTweets, negativeContents, positiveContents, stopwordsContents):\n",
    "    # call the wordCounter function to get the word counts\n",
    "    posWordCount, negWordCount, stopWordCount, otherWordCount = wordCounter(newCleanedTweets, negativeContents, positiveContents, stopwordsContents)\n",
    "    \n",
    "    # Check how many times this word occurs in cleanedTweets\n",
    "    trumpWordCount = sum(1 for word in newCleanedTweets if word.lower() == 'trump')\n",
    "    # To check, use - print(trumpWordCount)\n",
    "    \n",
    "    # Find the difference between trumpWordCount and posWordCount because that is the only file this word exists\n",
    "    newPosCount = posWordCount - trumpWordCount\n",
    "    \n",
    "    wordCountSum = newPosCount + negWordCount + stopWordCount + otherWordCount\n",
    "    \n",
    "    # Rounding each ratio by 2 digits because this is necessary for a concise understanding \n",
    "    posRatio = round(newPosCount/wordCountSum, 2) \n",
    "    negRatio = round(negWordCount/wordCountSum, 2)  \n",
    "    stopRatio = round(stopWordCount/wordCountSum, 2) \n",
    "    otherRatio = round(otherWordCount/wordCountSum, 2)\n",
    "    \n",
    "    # Ratio of postive words / negative words \n",
    "    postiveVersusNegative = round(newPosCount/negWordCount, 2)\n",
    "    \n",
    "    print (\"The ratio of positive words to total words is:\", posRatio)\n",
    "    print (\"The ratio of negative words to total words is:\", negRatio)\n",
    "    print (\"The ratio of stop words to total words is:\", stopRatio)\n",
    "    print (\"The ratio of other words to total words is:\", otherRatio)\n",
    "    \n",
    "    print(\"Positive Word Count / Negative Word Count:\", newPosCount, \"/\", negWordCount, \"=\", postiveVersusNegative)"
   ]
  },
  {
   "cell_type": "code",
   "execution_count": 496,
   "id": "9eb1c2cf",
   "metadata": {},
   "outputs": [
    {
     "name": "stdout",
     "output_type": "stream",
     "text": [
      "The ratio of positive words to total words is: 0.45\n",
      "The ratio of negative words to total words is: 0.12\n",
      "The ratio of stop words to total words is: 0.09\n",
      "The ratio of other words to total words is: 0.34\n",
      "Positive Word Count / Negative Word Count: 57696 / 15492 = 3.72\n"
     ]
    }
   ],
   "source": [
    "# Call the function: \n",
    "newRatios(newCleanedTweets, negativeContents, positiveContents, stopwordsContents)"
   ]
  },
  {
   "cell_type": "markdown",
   "id": "ec11f9a0",
   "metadata": {},
   "source": [
    "<b> Question 4: </b> Do you think that the general sentiment is negative or positive? Weakly or strongly?"
   ]
  },
  {
   "cell_type": "markdown",
   "id": "18c386ea",
   "metadata": {},
   "source": [
    "Although the statistics show otherwise, I believe the general statement is negative given what I had read in the text document. However, in the statistics, the sentiment appears to be generally positive given the high ratio of positive words (47%) compared to negative words (11%) identified. "
   ]
  },
  {
   "cell_type": "markdown",
   "id": "25ab3281",
   "metadata": {},
   "source": [
    "<b> Question 5: </b> What are some other considerations you might have on this analysis? (e.g., can\n",
    "you take the results above as is?)"
   ]
  },
  {
   "cell_type": "markdown",
   "id": "11b7e3bf",
   "metadata": {},
   "source": [
    "To begin with, there are other considerations that can be made in this sentiment analysis model. For example, words that are classified as negative or positive can have different connotations for different individuals and depending on context. For example, saying \"great\" can be positive when we are complementing someone's work, but may be interpreted as a negative if someone is being sarcastic. Moreover, as seen with the word \"Trump\", which was stored in the positive text file, there may be neutral opinions and/or strongly positive or negative responses by different individuals. As mentioned previously, political discussions have sarcastic notes to them, so it becomes difficult for a basic sentiment analysis model, like this one, to interpret the negativity or positivity levels. This may be further strengthened with a larger database and shifting to a machine learning model (e.g. logistic regression) to categorize.  "
   ]
  }
 ],
 "metadata": {
  "kernelspec": {
   "display_name": "Python 3 (ipykernel)",
   "language": "python",
   "name": "python3"
  },
  "language_info": {
   "codemirror_mode": {
    "name": "ipython",
    "version": 3
   },
   "file_extension": ".py",
   "mimetype": "text/x-python",
   "name": "python",
   "nbconvert_exporter": "python",
   "pygments_lexer": "ipython3",
   "version": "3.10.9"
  }
 },
 "nbformat": 4,
 "nbformat_minor": 5
}
